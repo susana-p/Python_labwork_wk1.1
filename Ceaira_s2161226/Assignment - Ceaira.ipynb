{
 "cells": [
  {
   "cell_type": "code",
   "execution_count": 1,
   "metadata": {},
   "outputs": [
    {
     "data": {
      "text/html": [
       "<div>\n",
       "<style scoped>\n",
       "    .dataframe tbody tr th:only-of-type {\n",
       "        vertical-align: middle;\n",
       "    }\n",
       "\n",
       "    .dataframe tbody tr th {\n",
       "        vertical-align: top;\n",
       "    }\n",
       "\n",
       "    .dataframe thead th {\n",
       "        text-align: right;\n",
       "    }\n",
       "</style>\n",
       "<table border=\"1\" class=\"dataframe\">\n",
       "  <thead>\n",
       "    <tr style=\"text-align: right;\">\n",
       "      <th></th>\n",
       "      <th>Id</th>\n",
       "      <th>Title</th>\n",
       "      <th>Company</th>\n",
       "      <th>Date</th>\n",
       "      <th>Location</th>\n",
       "      <th>Area</th>\n",
       "      <th>Classification</th>\n",
       "      <th>SubClassification</th>\n",
       "      <th>Requirement</th>\n",
       "      <th>FullDescription</th>\n",
       "      <th>LowestSalary</th>\n",
       "      <th>HighestSalary</th>\n",
       "      <th>JobType</th>\n",
       "    </tr>\n",
       "  </thead>\n",
       "  <tbody>\n",
       "    <tr>\n",
       "      <th>0</th>\n",
       "      <td>37404348</td>\n",
       "      <td>Casual Stock Replenisher</td>\n",
       "      <td>Aldi Stores</td>\n",
       "      <td>2018-10-07T00:00:00.000Z</td>\n",
       "      <td>Sydney</td>\n",
       "      <td>North West &amp; Hills District</td>\n",
       "      <td>Retail &amp; Consumer Products</td>\n",
       "      <td>Retail Assistants</td>\n",
       "      <td>Our Casual Stock Replenishers pride themselves...</td>\n",
       "      <td>NaN</td>\n",
       "      <td>0</td>\n",
       "      <td>30</td>\n",
       "      <td>NaN</td>\n",
       "    </tr>\n",
       "    <tr>\n",
       "      <th>1</th>\n",
       "      <td>37404337</td>\n",
       "      <td>Casual Stock Replenisher</td>\n",
       "      <td>Aldi Stores</td>\n",
       "      <td>2018-10-07T00:00:00.000Z</td>\n",
       "      <td>Richmond &amp; Hawkesbury</td>\n",
       "      <td>NaN</td>\n",
       "      <td>Retail &amp; Consumer Products</td>\n",
       "      <td>Retail Assistants</td>\n",
       "      <td>Our Casual Stock Replenishers pride themselves...</td>\n",
       "      <td>NaN</td>\n",
       "      <td>0</td>\n",
       "      <td>30</td>\n",
       "      <td>NaN</td>\n",
       "    </tr>\n",
       "    <tr>\n",
       "      <th>2</th>\n",
       "      <td>37404356</td>\n",
       "      <td>RETAIL SALES SUPERSTARS and STYLISTS Wanted - ...</td>\n",
       "      <td>LB Creative Pty Ltd</td>\n",
       "      <td>2018-10-07T00:00:00.000Z</td>\n",
       "      <td>Brisbane</td>\n",
       "      <td>CBD &amp; Inner Suburbs</td>\n",
       "      <td>Retail &amp; Consumer Products</td>\n",
       "      <td>Retail Assistants</td>\n",
       "      <td>BRAND NEW FLAGSHIP STORE OPENING - SUNSHINE PLAZA</td>\n",
       "      <td>NaN</td>\n",
       "      <td>0</td>\n",
       "      <td>30</td>\n",
       "      <td>NaN</td>\n",
       "    </tr>\n",
       "    <tr>\n",
       "      <th>3</th>\n",
       "      <td>37404330</td>\n",
       "      <td>Team member - Belrose</td>\n",
       "      <td>Anaconda Group Pty Ltd</td>\n",
       "      <td>2018-10-07T00:00:00.000Z</td>\n",
       "      <td>Gosford &amp; Central Coast</td>\n",
       "      <td>NaN</td>\n",
       "      <td>Retail &amp; Consumer Products</td>\n",
       "      <td>Retail Assistants</td>\n",
       "      <td>Bring it on - do you love the great outdoors a...</td>\n",
       "      <td>NaN</td>\n",
       "      <td>0</td>\n",
       "      <td>30</td>\n",
       "      <td>NaN</td>\n",
       "    </tr>\n",
       "    <tr>\n",
       "      <th>4</th>\n",
       "      <td>37404308</td>\n",
       "      <td>Business Banking Contact Centre Specialist, Ni...</td>\n",
       "      <td>Commonwealth Bank - Business &amp; Private Banking</td>\n",
       "      <td>2018-10-07T00:00:00.000Z</td>\n",
       "      <td>Sydney</td>\n",
       "      <td>Ryde &amp; Macquarie Park</td>\n",
       "      <td>Call Centre &amp; Customer Service</td>\n",
       "      <td>Sales - Inbound</td>\n",
       "      <td>We are seeking highly articulate, enthusiastic...</td>\n",
       "      <td>NaN</td>\n",
       "      <td>0</td>\n",
       "      <td>30</td>\n",
       "      <td>NaN</td>\n",
       "    </tr>\n",
       "  </tbody>\n",
       "</table>\n",
       "</div>"
      ],
      "text/plain": [
       "         Id                                              Title  \\\n",
       "0  37404348                           Casual Stock Replenisher   \n",
       "1  37404337                           Casual Stock Replenisher   \n",
       "2  37404356  RETAIL SALES SUPERSTARS and STYLISTS Wanted - ...   \n",
       "3  37404330                              Team member - Belrose   \n",
       "4  37404308  Business Banking Contact Centre Specialist, Ni...   \n",
       "\n",
       "                                          Company                      Date  \\\n",
       "0                                     Aldi Stores  2018-10-07T00:00:00.000Z   \n",
       "1                                     Aldi Stores  2018-10-07T00:00:00.000Z   \n",
       "2                             LB Creative Pty Ltd  2018-10-07T00:00:00.000Z   \n",
       "3                          Anaconda Group Pty Ltd  2018-10-07T00:00:00.000Z   \n",
       "4  Commonwealth Bank - Business & Private Banking  2018-10-07T00:00:00.000Z   \n",
       "\n",
       "                  Location                         Area  \\\n",
       "0                   Sydney  North West & Hills District   \n",
       "1    Richmond & Hawkesbury                          NaN   \n",
       "2                 Brisbane          CBD & Inner Suburbs   \n",
       "3  Gosford & Central Coast                          NaN   \n",
       "4                   Sydney        Ryde & Macquarie Park   \n",
       "\n",
       "                   Classification  SubClassification  \\\n",
       "0      Retail & Consumer Products  Retail Assistants   \n",
       "1      Retail & Consumer Products  Retail Assistants   \n",
       "2      Retail & Consumer Products  Retail Assistants   \n",
       "3      Retail & Consumer Products  Retail Assistants   \n",
       "4  Call Centre & Customer Service    Sales - Inbound   \n",
       "\n",
       "                                         Requirement FullDescription  \\\n",
       "0  Our Casual Stock Replenishers pride themselves...             NaN   \n",
       "1  Our Casual Stock Replenishers pride themselves...             NaN   \n",
       "2  BRAND NEW FLAGSHIP STORE OPENING - SUNSHINE PLAZA             NaN   \n",
       "3  Bring it on - do you love the great outdoors a...             NaN   \n",
       "4  We are seeking highly articulate, enthusiastic...             NaN   \n",
       "\n",
       "   LowestSalary  HighestSalary JobType  \n",
       "0             0             30     NaN  \n",
       "1             0             30     NaN  \n",
       "2             0             30     NaN  \n",
       "3             0             30     NaN  \n",
       "4             0             30     NaN  "
      ]
     },
     "execution_count": 1,
     "metadata": {},
     "output_type": "execute_result"
    }
   ],
   "source": [
    "#Import libraries and datset\n",
    "\n",
    "%matplotlib inline\n",
    "import numpy as np\n",
    "import pandas as pd\n",
    "import matplotlib.pyplot as plt\n",
    "import seaborn as sns\n",
    "\n",
    "df = pd.read_csv (\"data_assignment.csv\")\n",
    "df.head()"
   ]
  },
  {
   "cell_type": "code",
   "execution_count": 2,
   "metadata": {},
   "outputs": [
    {
     "data": {
      "text/html": [
       "<div>\n",
       "<style scoped>\n",
       "    .dataframe tbody tr th:only-of-type {\n",
       "        vertical-align: middle;\n",
       "    }\n",
       "\n",
       "    .dataframe tbody tr th {\n",
       "        vertical-align: top;\n",
       "    }\n",
       "\n",
       "    .dataframe thead th {\n",
       "        text-align: right;\n",
       "    }\n",
       "</style>\n",
       "<table border=\"1\" class=\"dataframe\">\n",
       "  <thead>\n",
       "    <tr style=\"text-align: right;\">\n",
       "      <th></th>\n",
       "      <th>Id</th>\n",
       "      <th>Title</th>\n",
       "      <th>Company</th>\n",
       "      <th>Date</th>\n",
       "      <th>Location</th>\n",
       "      <th>Area</th>\n",
       "      <th>Classification</th>\n",
       "      <th>SubClassification</th>\n",
       "      <th>Requirement</th>\n",
       "      <th>FullDescription</th>\n",
       "      <th>LowestSalary</th>\n",
       "      <th>HighestSalary</th>\n",
       "      <th>JobType</th>\n",
       "    </tr>\n",
       "  </thead>\n",
       "  <tbody>\n",
       "    <tr>\n",
       "      <th>149995</th>\n",
       "      <td>37709313</td>\n",
       "      <td>Geology Technician</td>\n",
       "      <td>Saracen Gold Mines Pty Ltd</td>\n",
       "      <td>2018-11-13T00:00:00.000Z</td>\n",
       "      <td>Kalgoorlie, Goldfields &amp; Esperance</td>\n",
       "      <td>NaN</td>\n",
       "      <td>Mining, Resources &amp; Energy</td>\n",
       "      <td>Mining - Exploration &amp; Geoscience</td>\n",
       "      <td>Due to an increase in our Exploration budget, ...</td>\n",
       "      <td>&lt;p style=\"text-align:justify;\"&gt;Saracen Mineral...</td>\n",
       "      <td>0</td>\n",
       "      <td>30</td>\n",
       "      <td>Full Time</td>\n",
       "    </tr>\n",
       "    <tr>\n",
       "      <th>149996</th>\n",
       "      <td>37709312</td>\n",
       "      <td>Lead Product Manager UX/UI</td>\n",
       "      <td>Opus Recruitment Solutions</td>\n",
       "      <td>2018-11-13T00:00:00.000Z</td>\n",
       "      <td>Melbourne</td>\n",
       "      <td>CBD &amp; Inner Suburbs</td>\n",
       "      <td>Design &amp; Architecture</td>\n",
       "      <td>Graphic Design</td>\n",
       "      <td>Senior Lead Product Manager | UX/UI | Payment/...</td>\n",
       "      <td>One Australia’s leading online payments platfo...</td>\n",
       "      <td>0</td>\n",
       "      <td>30</td>\n",
       "      <td>Full Time</td>\n",
       "    </tr>\n",
       "    <tr>\n",
       "      <th>149997</th>\n",
       "      <td>37709253</td>\n",
       "      <td>Junior Primary Teacher</td>\n",
       "      <td>Covenant Christian School (ACT)</td>\n",
       "      <td>2018-11-13T00:00:00.000Z</td>\n",
       "      <td>ACT</td>\n",
       "      <td>NaN</td>\n",
       "      <td>Education &amp; Training</td>\n",
       "      <td>Teaching - Primary</td>\n",
       "      <td>Junior Primary teacher to take a small single ...</td>\n",
       "      <td>&lt;p&gt;&lt;strong&gt;Junior Primary Teacher (part time o...</td>\n",
       "      <td>0</td>\n",
       "      <td>30</td>\n",
       "      <td>Full Time</td>\n",
       "    </tr>\n",
       "    <tr>\n",
       "      <th>149998</th>\n",
       "      <td>37709311</td>\n",
       "      <td>Network Engineer</td>\n",
       "      <td>Robert Half Technology</td>\n",
       "      <td>2018-11-13T00:00:00.000Z</td>\n",
       "      <td>Perth</td>\n",
       "      <td>CBD, Inner &amp; Western Suburbs</td>\n",
       "      <td>Information &amp; Communication Technology</td>\n",
       "      <td>Engineering - Network</td>\n",
       "      <td>Our client requires an experienced Network Eng...</td>\n",
       "      <td>&lt;ul&gt;\\n          &lt;li&gt;&lt;strong&gt;Permanent Position...</td>\n",
       "      <td>0</td>\n",
       "      <td>30</td>\n",
       "      <td>Full Time</td>\n",
       "    </tr>\n",
       "  </tbody>\n",
       "</table>\n",
       "</div>"
      ],
      "text/plain": [
       "              Id                       Title                          Company  \\\n",
       "149995  37709313          Geology Technician       Saracen Gold Mines Pty Ltd   \n",
       "149996  37709312  Lead Product Manager UX/UI       Opus Recruitment Solutions   \n",
       "149997  37709253      Junior Primary Teacher  Covenant Christian School (ACT)   \n",
       "149998  37709311           Network Engineer            Robert Half Technology   \n",
       "\n",
       "                            Date                            Location  \\\n",
       "149995  2018-11-13T00:00:00.000Z  Kalgoorlie, Goldfields & Esperance   \n",
       "149996  2018-11-13T00:00:00.000Z                           Melbourne   \n",
       "149997  2018-11-13T00:00:00.000Z                                 ACT   \n",
       "149998  2018-11-13T00:00:00.000Z                               Perth   \n",
       "\n",
       "                                Area                          Classification  \\\n",
       "149995                           NaN              Mining, Resources & Energy   \n",
       "149996           CBD & Inner Suburbs                   Design & Architecture   \n",
       "149997                           NaN                    Education & Training   \n",
       "149998  CBD, Inner & Western Suburbs  Information & Communication Technology   \n",
       "\n",
       "                        SubClassification  \\\n",
       "149995  Mining - Exploration & Geoscience   \n",
       "149996                     Graphic Design   \n",
       "149997                 Teaching - Primary   \n",
       "149998              Engineering - Network   \n",
       "\n",
       "                                              Requirement  \\\n",
       "149995  Due to an increase in our Exploration budget, ...   \n",
       "149996  Senior Lead Product Manager | UX/UI | Payment/...   \n",
       "149997  Junior Primary teacher to take a small single ...   \n",
       "149998  Our client requires an experienced Network Eng...   \n",
       "\n",
       "                                          FullDescription  LowestSalary  \\\n",
       "149995  <p style=\"text-align:justify;\">Saracen Mineral...             0   \n",
       "149996  One Australia’s leading online payments platfo...             0   \n",
       "149997  <p><strong>Junior Primary Teacher (part time o...             0   \n",
       "149998  <ul>\\n          <li><strong>Permanent Position...             0   \n",
       "\n",
       "        HighestSalary    JobType  \n",
       "149995             30  Full Time  \n",
       "149996             30  Full Time  \n",
       "149997             30  Full Time  \n",
       "149998             30  Full Time  "
      ]
     },
     "execution_count": 2,
     "metadata": {},
     "output_type": "execute_result"
    }
   ],
   "source": [
    "#Describe datset\n",
    "\n",
    "df.tail(4)"
   ]
  },
  {
   "cell_type": "code",
   "execution_count": 3,
   "metadata": {},
   "outputs": [
    {
     "data": {
      "text/plain": [
       "(149999, 13)"
      ]
     },
     "execution_count": 3,
     "metadata": {},
     "output_type": "execute_result"
    }
   ],
   "source": [
    "#How many records are there in the dataset\n",
    "\n",
    "df.shape"
   ]
  },
  {
   "cell_type": "code",
   "execution_count": 4,
   "metadata": {},
   "outputs": [
    {
     "data": {
      "text/plain": [
       "Index(['Id', 'Title', 'Company', 'Date', 'Location', 'Area', 'Classification',\n",
       "       'SubClassification', 'Requirement', 'FullDescription', 'LowestSalary',\n",
       "       'HighestSalary', 'JobType'],\n",
       "      dtype='object')"
      ]
     },
     "execution_count": 4,
     "metadata": {},
     "output_type": "execute_result"
    }
   ],
   "source": [
    "#Describe datset\n",
    "\n",
    "df.columns"
   ]
  },
  {
   "cell_type": "code",
   "execution_count": 5,
   "metadata": {},
   "outputs": [
    {
     "data": {
      "text/plain": [
       "Id                    int64\n",
       "Title                object\n",
       "Company              object\n",
       "Date                 object\n",
       "Location             object\n",
       "Area                 object\n",
       "Classification       object\n",
       "SubClassification    object\n",
       "Requirement          object\n",
       "FullDescription      object\n",
       "LowestSalary          int64\n",
       "HighestSalary         int64\n",
       "JobType              object\n",
       "dtype: object"
      ]
     },
     "execution_count": 5,
     "metadata": {},
     "output_type": "execute_result"
    }
   ],
   "source": [
    "#Describe datset\n",
    "\n",
    "df.dtypes"
   ]
  },
  {
   "cell_type": "code",
   "execution_count": 6,
   "metadata": {},
   "outputs": [],
   "source": [
    "#Correct date format\n",
    "\n",
    "df[\"Date\"] = df[\"Date\"].replace(to_replace=r'T.*', value='', regex = True)\n",
    "df[\"Date\"] = pd.to_datetime (df[\"Date\"])"
   ]
  },
  {
   "cell_type": "code",
   "execution_count": 7,
   "metadata": {
    "scrolled": true
   },
   "outputs": [
    {
     "data": {
      "text/plain": [
       "Id                            int64\n",
       "Title                        object\n",
       "Company                      object\n",
       "Date                 datetime64[ns]\n",
       "Location                     object\n",
       "Area                         object\n",
       "Classification               object\n",
       "SubClassification            object\n",
       "Requirement                  object\n",
       "FullDescription              object\n",
       "LowestSalary                  int64\n",
       "HighestSalary                 int64\n",
       "JobType                      object\n",
       "dtype: object"
      ]
     },
     "execution_count": 7,
     "metadata": {},
     "output_type": "execute_result"
    }
   ],
   "source": [
    "#Describe datset with correct date format\n",
    "\n",
    "df.dtypes"
   ]
  },
  {
   "cell_type": "code",
   "execution_count": 8,
   "metadata": {},
   "outputs": [
    {
     "data": {
      "text/html": [
       "<div>\n",
       "<style scoped>\n",
       "    .dataframe tbody tr th:only-of-type {\n",
       "        vertical-align: middle;\n",
       "    }\n",
       "\n",
       "    .dataframe tbody tr th {\n",
       "        vertical-align: top;\n",
       "    }\n",
       "\n",
       "    .dataframe thead th {\n",
       "        text-align: right;\n",
       "    }\n",
       "</style>\n",
       "<table border=\"1\" class=\"dataframe\">\n",
       "  <thead>\n",
       "    <tr style=\"text-align: right;\">\n",
       "      <th></th>\n",
       "      <th>Id</th>\n",
       "      <th>Title</th>\n",
       "      <th>Company</th>\n",
       "      <th>Date</th>\n",
       "      <th>Location</th>\n",
       "      <th>Area</th>\n",
       "      <th>Classification</th>\n",
       "      <th>SubClassification</th>\n",
       "      <th>Requirement</th>\n",
       "      <th>FullDescription</th>\n",
       "      <th>LowestSalary</th>\n",
       "      <th>HighestSalary</th>\n",
       "      <th>JobType</th>\n",
       "    </tr>\n",
       "  </thead>\n",
       "  <tbody>\n",
       "    <tr>\n",
       "      <th>22645</th>\n",
       "      <td>37362027</td>\n",
       "      <td>Principal SharePoint Consultant</td>\n",
       "      <td>PBI Search</td>\n",
       "      <td>2018-10-01</td>\n",
       "      <td>Sydney</td>\n",
       "      <td>CBD, Inner West &amp; Eastern Suburbs</td>\n",
       "      <td>Information &amp; Communication Technology</td>\n",
       "      <td>Consultants</td>\n",
       "      <td>Work as Principal Consultant, leading and deli...</td>\n",
       "      <td>&lt;div&gt;This award-winning Consultancy and MS Gol...</td>\n",
       "      <td>150</td>\n",
       "      <td>200</td>\n",
       "      <td>Full Time</td>\n",
       "    </tr>\n",
       "    <tr>\n",
       "      <th>22746</th>\n",
       "      <td>37360134</td>\n",
       "      <td>Application Developer - IBM IIB</td>\n",
       "      <td>Compas Pty Ltd</td>\n",
       "      <td>2018-10-01</td>\n",
       "      <td>ACT</td>\n",
       "      <td>NaN</td>\n",
       "      <td>Information &amp; Communication Technology</td>\n",
       "      <td>Developers/Programmers</td>\n",
       "      <td>Compas is seeking an experienced Application D...</td>\n",
       "      <td>Are you an &lt;strong&gt;Application Developer &lt;/str...</td>\n",
       "      <td>150</td>\n",
       "      <td>200</td>\n",
       "      <td>Contract/Temp</td>\n",
       "    </tr>\n",
       "    <tr>\n",
       "      <th>22747</th>\n",
       "      <td>37360123</td>\n",
       "      <td>Technical Consultant - Mainframe and ITSM</td>\n",
       "      <td>Sharp &amp; Carter Digital and Technology</td>\n",
       "      <td>2018-10-01</td>\n",
       "      <td>Melbourne</td>\n",
       "      <td>NaN</td>\n",
       "      <td>Information &amp; Communication Technology</td>\n",
       "      <td>Computer Operators</td>\n",
       "      <td>We are looking for several contractors for a 6...</td>\n",
       "      <td>&lt;br&gt;Technical Consultant &amp;nbsp;- Mainframe &amp;am...</td>\n",
       "      <td>150</td>\n",
       "      <td>200</td>\n",
       "      <td>Contract/Temp</td>\n",
       "    </tr>\n",
       "    <tr>\n",
       "      <th>22748</th>\n",
       "      <td>37360095</td>\n",
       "      <td>Level 3 Systems Engineer</td>\n",
       "      <td>Continuum Recruitment</td>\n",
       "      <td>2018-10-01</td>\n",
       "      <td>Sydney</td>\n",
       "      <td>CBD, Inner West &amp; Eastern Suburbs</td>\n",
       "      <td>Information &amp; Communication Technology</td>\n",
       "      <td>Networks &amp; Systems Administration</td>\n",
       "      <td>Engineer Level 3 | Sydney | 8 Month Contract |...</td>\n",
       "      <td>&lt;strong&gt;Level 3 Systems Engineer.&lt;br&gt;&lt;/strong&gt;...</td>\n",
       "      <td>150</td>\n",
       "      <td>200</td>\n",
       "      <td>Contract/Temp</td>\n",
       "    </tr>\n",
       "    <tr>\n",
       "      <th>22749</th>\n",
       "      <td>37360082</td>\n",
       "      <td>DevOps Engineer</td>\n",
       "      <td>Viiew Pty Ltd</td>\n",
       "      <td>2018-10-01</td>\n",
       "      <td>Sydney</td>\n",
       "      <td>CBD, Inner West &amp; Eastern Suburbs</td>\n",
       "      <td>Information &amp; Communication Technology</td>\n",
       "      <td>Developers/Programmers</td>\n",
       "      <td>We are looking for talented and enthusiastic S...</td>\n",
       "      <td>&lt;p&gt;&lt;strong&gt;&lt;br&gt;About VIIEW&lt;br&gt;&lt;br&gt;&lt;/strong&gt;Vii...</td>\n",
       "      <td>150</td>\n",
       "      <td>200</td>\n",
       "      <td>Contract/Temp</td>\n",
       "    </tr>\n",
       "    <tr>\n",
       "      <th>...</th>\n",
       "      <td>...</td>\n",
       "      <td>...</td>\n",
       "      <td>...</td>\n",
       "      <td>...</td>\n",
       "      <td>...</td>\n",
       "      <td>...</td>\n",
       "      <td>...</td>\n",
       "      <td>...</td>\n",
       "      <td>...</td>\n",
       "      <td>...</td>\n",
       "      <td>...</td>\n",
       "      <td>...</td>\n",
       "      <td>...</td>\n",
       "    </tr>\n",
       "    <tr>\n",
       "      <th>149346</th>\n",
       "      <td>37710161</td>\n",
       "      <td>Primary Teachers Wanted</td>\n",
       "      <td>Frontline Education Sydney</td>\n",
       "      <td>2018-11-13</td>\n",
       "      <td>Sydney</td>\n",
       "      <td>CBD, Inner West &amp; Eastern Suburbs</td>\n",
       "      <td>Education &amp; Training</td>\n",
       "      <td>Teaching - Primary</td>\n",
       "      <td>Currently seeking Casual Primary Teachers for ...</td>\n",
       "      <td>&lt;p&gt;&lt;strong&gt;How we can help:&lt;/strong&gt;&lt;/p&gt;\\n    ...</td>\n",
       "      <td>0</td>\n",
       "      <td>30</td>\n",
       "      <td>Casual/Vacation</td>\n",
       "    </tr>\n",
       "    <tr>\n",
       "      <th>149347</th>\n",
       "      <td>37710160</td>\n",
       "      <td>Broker Support Consultant</td>\n",
       "      <td>Employ</td>\n",
       "      <td>2018-11-13</td>\n",
       "      <td>Sydney</td>\n",
       "      <td>CBD, Inner West &amp; Eastern Suburbs</td>\n",
       "      <td>Banking &amp; Financial Services</td>\n",
       "      <td>Client Services</td>\n",
       "      <td>Varied role to support Brokers who are having ...</td>\n",
       "      <td>&lt;div&gt;\\n          &lt;div&gt;Working for a strong bra...</td>\n",
       "      <td>0</td>\n",
       "      <td>30</td>\n",
       "      <td>Full Time</td>\n",
       "    </tr>\n",
       "    <tr>\n",
       "      <th>149348</th>\n",
       "      <td>37710158</td>\n",
       "      <td>Physiotherapist - Private Practice</td>\n",
       "      <td>Ivory Group</td>\n",
       "      <td>2018-11-13</td>\n",
       "      <td>Sydney</td>\n",
       "      <td>North West &amp; Hills District</td>\n",
       "      <td>Healthcare &amp; Medical</td>\n",
       "      <td>Physiotherapy, OT &amp; Rehabilitation</td>\n",
       "      <td>Join an established private practice in Sydney...</td>\n",
       "      <td>&lt;p style=\"text-align:justify;\"&gt;&lt;strong&gt;ABOUT T...</td>\n",
       "      <td>0</td>\n",
       "      <td>30</td>\n",
       "      <td>Full Time</td>\n",
       "    </tr>\n",
       "    <tr>\n",
       "      <th>149350</th>\n",
       "      <td>37710156</td>\n",
       "      <td>Big Data Analytics Engineer (Data Science Team)</td>\n",
       "      <td>TRS - IT &amp; Communications</td>\n",
       "      <td>2018-11-13</td>\n",
       "      <td>Sydney</td>\n",
       "      <td>CBD, Inner West &amp; Eastern Suburbs</td>\n",
       "      <td>Information &amp; Communication Technology</td>\n",
       "      <td>Consultants</td>\n",
       "      <td>Huge Data Sets require a Data Scientist to per...</td>\n",
       "      <td>Our customer has access (hosts) some of the la...</td>\n",
       "      <td>0</td>\n",
       "      <td>30</td>\n",
       "      <td>Full Time</td>\n",
       "    </tr>\n",
       "    <tr>\n",
       "      <th>149998</th>\n",
       "      <td>37709311</td>\n",
       "      <td>Network Engineer</td>\n",
       "      <td>Robert Half Technology</td>\n",
       "      <td>2018-11-13</td>\n",
       "      <td>Perth</td>\n",
       "      <td>CBD, Inner &amp; Western Suburbs</td>\n",
       "      <td>Information &amp; Communication Technology</td>\n",
       "      <td>Engineering - Network</td>\n",
       "      <td>Our client requires an experienced Network Eng...</td>\n",
       "      <td>&lt;ul&gt;\\n          &lt;li&gt;&lt;strong&gt;Permanent Position...</td>\n",
       "      <td>0</td>\n",
       "      <td>30</td>\n",
       "      <td>Full Time</td>\n",
       "    </tr>\n",
       "  </tbody>\n",
       "</table>\n",
       "<p>149999 rows × 13 columns</p>\n",
       "</div>"
      ],
      "text/plain": [
       "              Id                                            Title  \\\n",
       "22645   37362027                  Principal SharePoint Consultant   \n",
       "22746   37360134                  Application Developer - IBM IIB   \n",
       "22747   37360123        Technical Consultant - Mainframe and ITSM   \n",
       "22748   37360095                         Level 3 Systems Engineer   \n",
       "22749   37360082                                 DevOps Engineer    \n",
       "...          ...                                              ...   \n",
       "149346  37710161                          Primary Teachers Wanted   \n",
       "149347  37710160                        Broker Support Consultant   \n",
       "149348  37710158               Physiotherapist - Private Practice   \n",
       "149350  37710156  Big Data Analytics Engineer (Data Science Team)   \n",
       "149998  37709311                                Network Engineer    \n",
       "\n",
       "                                      Company       Date   Location  \\\n",
       "22645                              PBI Search 2018-10-01     Sydney   \n",
       "22746                          Compas Pty Ltd 2018-10-01        ACT   \n",
       "22747   Sharp & Carter Digital and Technology 2018-10-01  Melbourne   \n",
       "22748                   Continuum Recruitment 2018-10-01     Sydney   \n",
       "22749                           Viiew Pty Ltd 2018-10-01     Sydney   \n",
       "...                                       ...        ...        ...   \n",
       "149346             Frontline Education Sydney 2018-11-13     Sydney   \n",
       "149347                                 Employ 2018-11-13     Sydney   \n",
       "149348                            Ivory Group 2018-11-13     Sydney   \n",
       "149350              TRS - IT & Communications 2018-11-13     Sydney   \n",
       "149998                 Robert Half Technology 2018-11-13      Perth   \n",
       "\n",
       "                                     Area  \\\n",
       "22645   CBD, Inner West & Eastern Suburbs   \n",
       "22746                                 NaN   \n",
       "22747                                 NaN   \n",
       "22748   CBD, Inner West & Eastern Suburbs   \n",
       "22749   CBD, Inner West & Eastern Suburbs   \n",
       "...                                   ...   \n",
       "149346  CBD, Inner West & Eastern Suburbs   \n",
       "149347  CBD, Inner West & Eastern Suburbs   \n",
       "149348        North West & Hills District   \n",
       "149350  CBD, Inner West & Eastern Suburbs   \n",
       "149998       CBD, Inner & Western Suburbs   \n",
       "\n",
       "                                Classification  \\\n",
       "22645   Information & Communication Technology   \n",
       "22746   Information & Communication Technology   \n",
       "22747   Information & Communication Technology   \n",
       "22748   Information & Communication Technology   \n",
       "22749   Information & Communication Technology   \n",
       "...                                        ...   \n",
       "149346                    Education & Training   \n",
       "149347            Banking & Financial Services   \n",
       "149348                    Healthcare & Medical   \n",
       "149350  Information & Communication Technology   \n",
       "149998  Information & Communication Technology   \n",
       "\n",
       "                         SubClassification  \\\n",
       "22645                          Consultants   \n",
       "22746               Developers/Programmers   \n",
       "22747                   Computer Operators   \n",
       "22748    Networks & Systems Administration   \n",
       "22749               Developers/Programmers   \n",
       "...                                    ...   \n",
       "149346                  Teaching - Primary   \n",
       "149347                     Client Services   \n",
       "149348  Physiotherapy, OT & Rehabilitation   \n",
       "149350                         Consultants   \n",
       "149998               Engineering - Network   \n",
       "\n",
       "                                              Requirement  \\\n",
       "22645   Work as Principal Consultant, leading and deli...   \n",
       "22746   Compas is seeking an experienced Application D...   \n",
       "22747   We are looking for several contractors for a 6...   \n",
       "22748   Engineer Level 3 | Sydney | 8 Month Contract |...   \n",
       "22749   We are looking for talented and enthusiastic S...   \n",
       "...                                                   ...   \n",
       "149346  Currently seeking Casual Primary Teachers for ...   \n",
       "149347  Varied role to support Brokers who are having ...   \n",
       "149348  Join an established private practice in Sydney...   \n",
       "149350  Huge Data Sets require a Data Scientist to per...   \n",
       "149998  Our client requires an experienced Network Eng...   \n",
       "\n",
       "                                          FullDescription  LowestSalary  \\\n",
       "22645   <div>This award-winning Consultancy and MS Gol...           150   \n",
       "22746   Are you an <strong>Application Developer </str...           150   \n",
       "22747   <br>Technical Consultant &nbsp;- Mainframe &am...           150   \n",
       "22748   <strong>Level 3 Systems Engineer.<br></strong>...           150   \n",
       "22749   <p><strong><br>About VIIEW<br><br></strong>Vii...           150   \n",
       "...                                                   ...           ...   \n",
       "149346  <p><strong>How we can help:</strong></p>\\n    ...             0   \n",
       "149347  <div>\\n          <div>Working for a strong bra...             0   \n",
       "149348  <p style=\"text-align:justify;\"><strong>ABOUT T...             0   \n",
       "149350  Our customer has access (hosts) some of the la...             0   \n",
       "149998  <ul>\\n          <li><strong>Permanent Position...             0   \n",
       "\n",
       "        HighestSalary          JobType  \n",
       "22645             200        Full Time  \n",
       "22746             200    Contract/Temp  \n",
       "22747             200    Contract/Temp  \n",
       "22748             200    Contract/Temp  \n",
       "22749             200    Contract/Temp  \n",
       "...               ...              ...  \n",
       "149346             30  Casual/Vacation  \n",
       "149347             30        Full Time  \n",
       "149348             30        Full Time  \n",
       "149350             30        Full Time  \n",
       "149998             30        Full Time  \n",
       "\n",
       "[149999 rows x 13 columns]"
      ]
     },
     "execution_count": 8,
     "metadata": {},
     "output_type": "execute_result"
    }
   ],
   "source": [
    "df.sort_values(by='Date')"
   ]
  },
  {
   "cell_type": "code",
   "execution_count": 9,
   "metadata": {},
   "outputs": [
    {
     "data": {
      "text/plain": [
       "2018-10-17    13059\n",
       "2018-10-31     8641\n",
       "2018-10-04     8506\n",
       "2018-10-10     8337\n",
       "2018-10-30     8179\n",
       "2018-10-18     8121\n",
       "2018-11-05     7778\n",
       "2018-11-07     6947\n",
       "2018-10-09     6329\n",
       "2018-10-16     6267\n",
       "2018-10-19     5989\n",
       "2018-11-12     5865\n",
       "2018-10-05     5711\n",
       "2018-10-15     5210\n",
       "2018-10-08     4995\n",
       "2018-10-03     4945\n",
       "2018-10-29     4656\n",
       "2018-11-06     3654\n",
       "2018-11-09     3377\n",
       "2018-11-02     2874\n",
       "2018-10-02     1980\n",
       "2018-10-26     1701\n",
       "2018-10-12     1324\n",
       "2018-11-01     1316\n",
       "2018-10-11     1221\n",
       "2018-10-25     1205\n",
       "2018-11-08     1199\n",
       "2018-10-21     1145\n",
       "2018-10-07     1037\n",
       "2018-10-01     1023\n",
       "2018-11-13      986\n",
       "2018-10-24      835\n",
       "2018-10-23      827\n",
       "2018-11-10      743\n",
       "2018-10-22      688\n",
       "2018-11-04      636\n",
       "2018-11-03      499\n",
       "2018-10-06      471\n",
       "2018-10-20      422\n",
       "2018-11-11      343\n",
       "2018-10-28      291\n",
       "2018-10-14      239\n",
       "2018-10-27      232\n",
       "2018-10-13      196\n",
       "Name: Date, dtype: int64"
      ]
     },
     "execution_count": 9,
     "metadata": {},
     "output_type": "execute_result"
    }
   ],
   "source": [
    "#Which period does it cover? How many different dates have job postings?\n",
    "\n",
    "df.sort_values(by='Date')\n",
    "df[\"Date\"].value_counts()"
   ]
  },
  {
   "cell_type": "code",
   "execution_count": 10,
   "metadata": {},
   "outputs": [],
   "source": [
    "df = df.assign(AverageSalary = (df [\"LowestSalary\"]+ df[\"HighestSalary\"])/2)"
   ]
  },
  {
   "cell_type": "code",
   "execution_count": 11,
   "metadata": {},
   "outputs": [
    {
     "data": {
      "text/html": [
       "<div>\n",
       "<style scoped>\n",
       "    .dataframe tbody tr th:only-of-type {\n",
       "        vertical-align: middle;\n",
       "    }\n",
       "\n",
       "    .dataframe tbody tr th {\n",
       "        vertical-align: top;\n",
       "    }\n",
       "\n",
       "    .dataframe thead th {\n",
       "        text-align: right;\n",
       "    }\n",
       "</style>\n",
       "<table border=\"1\" class=\"dataframe\">\n",
       "  <thead>\n",
       "    <tr style=\"text-align: right;\">\n",
       "      <th></th>\n",
       "      <th>Id</th>\n",
       "      <th>Title</th>\n",
       "      <th>Company</th>\n",
       "      <th>Date</th>\n",
       "      <th>Location</th>\n",
       "      <th>Area</th>\n",
       "      <th>Classification</th>\n",
       "      <th>SubClassification</th>\n",
       "      <th>Requirement</th>\n",
       "      <th>FullDescription</th>\n",
       "      <th>LowestSalary</th>\n",
       "      <th>HighestSalary</th>\n",
       "      <th>JobType</th>\n",
       "      <th>AverageSalary</th>\n",
       "    </tr>\n",
       "  </thead>\n",
       "  <tbody>\n",
       "    <tr>\n",
       "      <th>0</th>\n",
       "      <td>37404348</td>\n",
       "      <td>Casual Stock Replenisher</td>\n",
       "      <td>Aldi Stores</td>\n",
       "      <td>2018-10-07</td>\n",
       "      <td>Sydney</td>\n",
       "      <td>North West &amp; Hills District</td>\n",
       "      <td>Retail &amp; Consumer Products</td>\n",
       "      <td>Retail Assistants</td>\n",
       "      <td>Our Casual Stock Replenishers pride themselves...</td>\n",
       "      <td>NaN</td>\n",
       "      <td>0</td>\n",
       "      <td>30</td>\n",
       "      <td>NaN</td>\n",
       "      <td>15.0</td>\n",
       "    </tr>\n",
       "    <tr>\n",
       "      <th>1</th>\n",
       "      <td>37404337</td>\n",
       "      <td>Casual Stock Replenisher</td>\n",
       "      <td>Aldi Stores</td>\n",
       "      <td>2018-10-07</td>\n",
       "      <td>Richmond &amp; Hawkesbury</td>\n",
       "      <td>NaN</td>\n",
       "      <td>Retail &amp; Consumer Products</td>\n",
       "      <td>Retail Assistants</td>\n",
       "      <td>Our Casual Stock Replenishers pride themselves...</td>\n",
       "      <td>NaN</td>\n",
       "      <td>0</td>\n",
       "      <td>30</td>\n",
       "      <td>NaN</td>\n",
       "      <td>15.0</td>\n",
       "    </tr>\n",
       "    <tr>\n",
       "      <th>2</th>\n",
       "      <td>37404356</td>\n",
       "      <td>RETAIL SALES SUPERSTARS and STYLISTS Wanted - ...</td>\n",
       "      <td>LB Creative Pty Ltd</td>\n",
       "      <td>2018-10-07</td>\n",
       "      <td>Brisbane</td>\n",
       "      <td>CBD &amp; Inner Suburbs</td>\n",
       "      <td>Retail &amp; Consumer Products</td>\n",
       "      <td>Retail Assistants</td>\n",
       "      <td>BRAND NEW FLAGSHIP STORE OPENING - SUNSHINE PLAZA</td>\n",
       "      <td>NaN</td>\n",
       "      <td>0</td>\n",
       "      <td>30</td>\n",
       "      <td>NaN</td>\n",
       "      <td>15.0</td>\n",
       "    </tr>\n",
       "    <tr>\n",
       "      <th>3</th>\n",
       "      <td>37404330</td>\n",
       "      <td>Team member - Belrose</td>\n",
       "      <td>Anaconda Group Pty Ltd</td>\n",
       "      <td>2018-10-07</td>\n",
       "      <td>Gosford &amp; Central Coast</td>\n",
       "      <td>NaN</td>\n",
       "      <td>Retail &amp; Consumer Products</td>\n",
       "      <td>Retail Assistants</td>\n",
       "      <td>Bring it on - do you love the great outdoors a...</td>\n",
       "      <td>NaN</td>\n",
       "      <td>0</td>\n",
       "      <td>30</td>\n",
       "      <td>NaN</td>\n",
       "      <td>15.0</td>\n",
       "    </tr>\n",
       "    <tr>\n",
       "      <th>4</th>\n",
       "      <td>37404308</td>\n",
       "      <td>Business Banking Contact Centre Specialist, Ni...</td>\n",
       "      <td>Commonwealth Bank - Business &amp; Private Banking</td>\n",
       "      <td>2018-10-07</td>\n",
       "      <td>Sydney</td>\n",
       "      <td>Ryde &amp; Macquarie Park</td>\n",
       "      <td>Call Centre &amp; Customer Service</td>\n",
       "      <td>Sales - Inbound</td>\n",
       "      <td>We are seeking highly articulate, enthusiastic...</td>\n",
       "      <td>NaN</td>\n",
       "      <td>0</td>\n",
       "      <td>30</td>\n",
       "      <td>NaN</td>\n",
       "      <td>15.0</td>\n",
       "    </tr>\n",
       "  </tbody>\n",
       "</table>\n",
       "</div>"
      ],
      "text/plain": [
       "         Id                                              Title  \\\n",
       "0  37404348                           Casual Stock Replenisher   \n",
       "1  37404337                           Casual Stock Replenisher   \n",
       "2  37404356  RETAIL SALES SUPERSTARS and STYLISTS Wanted - ...   \n",
       "3  37404330                              Team member - Belrose   \n",
       "4  37404308  Business Banking Contact Centre Specialist, Ni...   \n",
       "\n",
       "                                          Company       Date  \\\n",
       "0                                     Aldi Stores 2018-10-07   \n",
       "1                                     Aldi Stores 2018-10-07   \n",
       "2                             LB Creative Pty Ltd 2018-10-07   \n",
       "3                          Anaconda Group Pty Ltd 2018-10-07   \n",
       "4  Commonwealth Bank - Business & Private Banking 2018-10-07   \n",
       "\n",
       "                  Location                         Area  \\\n",
       "0                   Sydney  North West & Hills District   \n",
       "1    Richmond & Hawkesbury                          NaN   \n",
       "2                 Brisbane          CBD & Inner Suburbs   \n",
       "3  Gosford & Central Coast                          NaN   \n",
       "4                   Sydney        Ryde & Macquarie Park   \n",
       "\n",
       "                   Classification  SubClassification  \\\n",
       "0      Retail & Consumer Products  Retail Assistants   \n",
       "1      Retail & Consumer Products  Retail Assistants   \n",
       "2      Retail & Consumer Products  Retail Assistants   \n",
       "3      Retail & Consumer Products  Retail Assistants   \n",
       "4  Call Centre & Customer Service    Sales - Inbound   \n",
       "\n",
       "                                         Requirement FullDescription  \\\n",
       "0  Our Casual Stock Replenishers pride themselves...             NaN   \n",
       "1  Our Casual Stock Replenishers pride themselves...             NaN   \n",
       "2  BRAND NEW FLAGSHIP STORE OPENING - SUNSHINE PLAZA             NaN   \n",
       "3  Bring it on - do you love the great outdoors a...             NaN   \n",
       "4  We are seeking highly articulate, enthusiastic...             NaN   \n",
       "\n",
       "   LowestSalary  HighestSalary JobType  AverageSalary  \n",
       "0             0             30     NaN           15.0  \n",
       "1             0             30     NaN           15.0  \n",
       "2             0             30     NaN           15.0  \n",
       "3             0             30     NaN           15.0  \n",
       "4             0             30     NaN           15.0  "
      ]
     },
     "execution_count": 11,
     "metadata": {},
     "output_type": "execute_result"
    }
   ],
   "source": [
    "df.head()"
   ]
  },
  {
   "cell_type": "code",
   "execution_count": 12,
   "metadata": {},
   "outputs": [
    {
     "data": {
      "text/plain": [
       "37488639    1\n",
       "37412593    1\n",
       "37582596    1\n",
       "37576449    1\n",
       "37692750    1\n",
       "           ..\n",
       "37495633    1\n",
       "37497680    1\n",
       "37536589    1\n",
       "37520197    1\n",
       "37486592    1\n",
       "Name: Id, Length: 149999, dtype: int64"
      ]
     },
     "execution_count": 12,
     "metadata": {},
     "output_type": "execute_result"
    }
   ],
   "source": [
    "#Describe datset\n",
    "\n",
    "df[\"Id\"].value_counts()"
   ]
  },
  {
   "cell_type": "code",
   "execution_count": 13,
   "metadata": {},
   "outputs": [
    {
     "data": {
      "text/plain": [
       "Project Manager                                     592\n",
       "Business Analyst                                    392\n",
       "Business Development Manager                        352\n",
       "Registered Nurse                                    329\n",
       "Administration Assistant                            278\n",
       "                                                   ... \n",
       "Business Development and Marketing Manager            1\n",
       "Fork Lift General Labours                             1\n",
       "Early Childhood Educator Jobs 2018! North Sydney      1\n",
       "Workshop Service Technician                           1\n",
       "Food Manufacturing Labourer                           1\n",
       "Name: Title, Length: 92115, dtype: int64"
      ]
     },
     "execution_count": 13,
     "metadata": {},
     "output_type": "execute_result"
    }
   ],
   "source": [
    "#Describe datset\n",
    "\n",
    "df[\"Title\"].value_counts()"
   ]
  },
  {
   "cell_type": "code",
   "execution_count": 14,
   "metadata": {},
   "outputs": [
    {
     "data": {
      "text/plain": [
       "Jora Local                              4896\n",
       "Hudson                                   804\n",
       "Design & Build                           701\n",
       "Programmed Skilled Workforce             680\n",
       "Robert Walters                           672\n",
       "                                        ... \n",
       "Jenkins Legal Services (JLS) Pty Ltd       1\n",
       "Rutherford Trailers                        1\n",
       "PGS Industries                             1\n",
       "Inline Cosmetic Laboratories               1\n",
       "Advanced Air Conditioning Pty Ltd          1\n",
       "Name: Company, Length: 26318, dtype: int64"
      ]
     },
     "execution_count": 14,
     "metadata": {},
     "output_type": "execute_result"
    }
   ],
   "source": [
    "#Describe datset\n",
    "\n",
    "df[\"Company\"].value_counts()"
   ]
  },
  {
   "cell_type": "code",
   "execution_count": 15,
   "metadata": {},
   "outputs": [
    {
     "data": {
      "text/plain": [
       "2018-10-17    13059\n",
       "2018-10-31     8641\n",
       "2018-10-04     8506\n",
       "2018-10-10     8337\n",
       "2018-10-30     8179\n",
       "2018-10-18     8121\n",
       "2018-11-05     7778\n",
       "2018-11-07     6947\n",
       "2018-10-09     6329\n",
       "2018-10-16     6267\n",
       "2018-10-19     5989\n",
       "2018-11-12     5865\n",
       "2018-10-05     5711\n",
       "2018-10-15     5210\n",
       "2018-10-08     4995\n",
       "2018-10-03     4945\n",
       "2018-10-29     4656\n",
       "2018-11-06     3654\n",
       "2018-11-09     3377\n",
       "2018-11-02     2874\n",
       "2018-10-02     1980\n",
       "2018-10-26     1701\n",
       "2018-10-12     1324\n",
       "2018-11-01     1316\n",
       "2018-10-11     1221\n",
       "2018-10-25     1205\n",
       "2018-11-08     1199\n",
       "2018-10-21     1145\n",
       "2018-10-07     1037\n",
       "2018-10-01     1023\n",
       "2018-11-13      986\n",
       "2018-10-24      835\n",
       "2018-10-23      827\n",
       "2018-11-10      743\n",
       "2018-10-22      688\n",
       "2018-11-04      636\n",
       "2018-11-03      499\n",
       "2018-10-06      471\n",
       "2018-10-20      422\n",
       "2018-11-11      343\n",
       "2018-10-28      291\n",
       "2018-10-14      239\n",
       "2018-10-27      232\n",
       "2018-10-13      196\n",
       "Name: Date, dtype: int64"
      ]
     },
     "execution_count": 15,
     "metadata": {},
     "output_type": "execute_result"
    }
   ],
   "source": [
    "#Describe datset\n",
    "\n",
    "df[\"Date\"].value_counts()"
   ]
  },
  {
   "cell_type": "code",
   "execution_count": 16,
   "metadata": {},
   "outputs": [
    {
     "data": {
      "text/plain": [
       "Sydney                                  46357\n",
       "Melbourne                               35315\n",
       "Brisbane                                16538\n",
       "Perth                                    9913\n",
       "Adelaide                                 4998\n",
       "                                        ...  \n",
       "Coober Pedy & Outback SA                   78\n",
       "Tumut, Snowy & Monaro                      69\n",
       "Somerset & Lockyer                         56\n",
       "Fleurieu Peninsula & Kangaroo Island       53\n",
       "Central & South East TAS                   36\n",
       "Name: Location, Length: 65, dtype: int64"
      ]
     },
     "execution_count": 16,
     "metadata": {},
     "output_type": "execute_result"
    }
   ],
   "source": [
    "#Describe datset\n",
    "\n",
    "df[\"Location\"].value_counts()"
   ]
  },
  {
   "cell_type": "code",
   "execution_count": 17,
   "metadata": {},
   "outputs": [
    {
     "data": {
      "text/plain": [
       "CBD & Inner Suburbs                    24302\n",
       "CBD, Inner West & Eastern Suburbs      22079\n",
       "Parramatta & Western Suburbs            6677\n",
       "North Shore & Northern Beaches          5177\n",
       "Bayside & South Eastern Suburbs         5153\n",
       "Northern Suburbs                        4974\n",
       "Eastern Suburbs                         4839\n",
       "CBD, Inner & Western Suburbs            4158\n",
       "Western Suburbs                         3265\n",
       "South West & M5 Corridor                2493\n",
       "Southern Suburbs & Sutherland Shire     1715\n",
       "Southern Suburbs & Logan                1663\n",
       "Ryde & Macquarie Park                   1516\n",
       "North West & Hills District             1443\n",
       "Fremantle & Southern Suburbs            1393\n",
       "Northern Suburbs & Joondalup             936\n",
       "Western Suburbs & Ipswich                918\n",
       "Bayside & Eastern Suburbs                516\n",
       "Rockingham & Kwinana                     279\n",
       "Name: Area, dtype: int64"
      ]
     },
     "execution_count": 17,
     "metadata": {},
     "output_type": "execute_result"
    }
   ],
   "source": [
    "#Describe datset\n",
    "\n",
    "df[\"Area\"].value_counts()"
   ]
  },
  {
   "cell_type": "code",
   "execution_count": 18,
   "metadata": {},
   "outputs": [
    {
     "data": {
      "text/plain": [
       "Information & Communication Technology    16661\n",
       "Trades & Services                         14125\n",
       "Healthcare & Medical                      12515\n",
       "Hospitality & Tourism                     11818\n",
       "Manufacturing, Transport & Logistics       9608\n",
       "Administration & Office Support            7636\n",
       "Accounting                                 7075\n",
       "Education & Training                       7033\n",
       "Retail & Consumer Products                 6496\n",
       "Sales                                      6281\n",
       "Construction                               6254\n",
       "Government & Defence                       5926\n",
       "Engineering                                4812\n",
       "Mining, Resources & Energy                 4679\n",
       "Community Services & Development           3528\n",
       "Banking & Financial Services               3481\n",
       "Human Resources & Recruitment              3233\n",
       "Call Centre & Customer Service             3127\n",
       "Legal                                      3071\n",
       "Marketing & Communications                 3052\n",
       "Real Estate & Property                     2729\n",
       "Design & Architecture                      1379\n",
       "Insurance & Superannuation                 1144\n",
       "Consulting & Strategy                       905\n",
       "Sport & Recreation                          750\n",
       "Science & Technology                        696\n",
       "Farming, Animals & Conservation             683\n",
       "Advertising, Arts & Media                   644\n",
       "CEO & General Management                    585\n",
       "Self Employment                              73\n",
       "Name: Classification, dtype: int64"
      ]
     },
     "execution_count": 18,
     "metadata": {},
     "output_type": "execute_result"
    }
   ],
   "source": [
    "#How many job sectors (job classifications) are there in the dataset? List the name of each sector and its' total of job postings\n",
    "\n",
    "df[\"Classification\"].value_counts()"
   ]
  },
  {
   "cell_type": "code",
   "execution_count": 19,
   "metadata": {},
   "outputs": [
    {
     "data": {
      "text/plain": [
       "Id                   149999\n",
       "Title                 92115\n",
       "Company               26318\n",
       "Date                     44\n",
       "Location                 65\n",
       "Area                     19\n",
       "Classification           30\n",
       "SubClassification       338\n",
       "Requirement          121324\n",
       "FullDescription      127676\n",
       "LowestSalary             11\n",
       "HighestSalary            11\n",
       "JobType                   4\n",
       "AverageSalary            11\n",
       "dtype: int64"
      ]
     },
     "execution_count": 19,
     "metadata": {},
     "output_type": "execute_result"
    }
   ],
   "source": [
    "#Describe datset\n",
    "\n",
    "df.nunique()"
   ]
  },
  {
   "cell_type": "code",
   "execution_count": 20,
   "metadata": {},
   "outputs": [
    {
     "data": {
      "text/plain": [
       "#NAME?                                                                                                                                                    168\n",
       "Whether they’re racing to fill shelves or scanning through customers, our Retail Assistants can do everything and anything.                               137\n",
       "Your work will help to improve health outcomes for Aboriginal and Torres Strait Islander Peoples                                                           80\n",
       "Seeking an entry level position with a well established company? ProForce specialise in placing graduates into corporate roles to launch their careers     69\n",
       "Teachers at range 1 are responsible for teaching their own classes and may also assist and participate in policy development, project teams and the...     65\n",
       "                                                                                                                                                         ... \n",
       "We are seeking a suitable person to join our Services team as a Service Technician / Installer on a fulltime basis.                                         1\n",
       "Tranquil Retirement Group is a long-term retirement village operator with a strong family philosophy & hands-on approach looking for a village manager      1\n",
       "We are searching for an enthusiastic and loyal individual who will start as a general all-rounder and trained to be a Property Officer.                     1\n",
       "Solar Sales Wanted                                                                                                                                          1\n",
       "Immediate Start, Small Company, Work Life Balance, Work From Home                                                                                           1\n",
       "Name: Requirement, Length: 121324, dtype: int64"
      ]
     },
     "execution_count": 20,
     "metadata": {},
     "output_type": "execute_result"
    }
   ],
   "source": [
    "#Describe datset\n",
    "\n",
    "df[\"Requirement\"].value_counts()"
   ]
  },
  {
   "cell_type": "code",
   "execution_count": 21,
   "metadata": {},
   "outputs": [
    {
     "data": {
      "text/plain": [
       "<p><strong>At ALDI, our people are the key to our success.</strong></p>\\n        <p>We're looking for high energy team members who love to keep active and busy. A Retail Assistant at ALDI needs to be able to thrive in a fast paced, team environment and always be willing to go the extra mile for their customers and team. The role\\n          is physical in nature, so you'll need to enjoy hands-on work and meeting deadlines and our shifts can start at 6am some mornings, and finish at 10pm others, so being flexible and available any 5 out of 7 days is important. Finally, prior experience\\n          in a fast paced, retail environment will be viewed favourably; however a positive attitude and hardworking spirit are an absolute must.</p>\\n        <p><strong>What's in it for you?&nbsp;</strong></p>\\n        <ul>\\n          <li>Market leading remuneration -&nbsp;$24.55 per hour*</li>\\n          <li>Be a part of a leading international retailer</li>\\n          <li>Career opportunities in our rapidly growing store network including progression to Store Management Trainee</li>\\n          <li>Extensive training and development.</li>\\n          <li>Rotating roster and guaranteed contracted hours.</li>\\n          <li>4 weeks annual leave</li>\\n          <li>Work alongside friendly and supportive colleagues</li>\\n        </ul>\\n        <p><strong>You will be&nbsp;responsible for:&nbsp;</strong></p>\\n        <ul>\\n          <li>Maintaining and replenishing stock storewide</li>\\n          <li>Operating manual pallet moving equipment</li>\\n          <li>Merchandising stock storewide</li>\\n          <li>Serving and assisting customers in a professional and efficient manner</li>\\n          <li>Operating tills and calculating change manually</li>\\n        </ul>\\n        <p>*Hourly rate for Retail Assistants over 18 years of age.</p>                                                                                                                                                                                                                                                                                                                                                                                                                                                                                                                                                                                                                                                                                                                                                                                                                                                                                                                                                                                                                                                                                                                                                                                                                                                                                                                                                                                                                                                                                                                                                                                                                                                                                                                                                                                                                                                                                                                                                                                                                                                                                                                                                                                                                                                                                                                  115\n",
       "<p>Want to join a savvy team of Mystery Shoppers working for one of the top Mystery Shopping companies? Read on!</p>\\n        <p>Mystery shopping provides you with the flexibility to work around your lifestyle and be your own boss!!! This is a fun and varied hobby job that will give you the opportunity to share your customer experiences while enjoying the products and services\\n          of our client’s clients.</p>\\n        <p>Our client works with some of the biggest names in the business; brands who care deeply about their customer interactions, and who want to be “best in class” in their industry. You are being invited to participate in a rare opportunity to experience\\n          first hand what they have to offer.</p>\\n        <p>As a mystery shopper your feedback assists our client’s clients to measure their customer service performance and implement strategies to improve the customer experience.</p>\\n        <p>Your role is to document compliance against company behaviours and practices, elevating their customer experience and helping them build a consumer preferred and trusted brand. You will help them to create an exceptional customer experience across\\n          every touch point.</p>\\n        <p>You will need to have an eye for detail, a good memory and excellent written communication skills. Good spelling and grammar are essential. You must have access to a computer and the internet.</p>\\n        <p>If you are reliable, self-motivated and want to make a difference to customer service then this is for you.</p>\\n        <p>&nbsp;</p>\\n        <p>Apply Now!</p>                                                                                                                                                                                                                                                                                                                                                                                                                                                                                                                                                                                                                                                                                                                                                                                                                                                                                                                                                                                                                                                                                                                                                                                                                                                                                                                                                                                                                                                                                                                                                                                                                                                                                                                                                                                                                                                                                                                                                                                                                                                                                                                                                                                                                                                                                                                                                                                                                                                                                                                                                                          57\n",
       "A career with CQ Health offers exceptional opportunities for personal and professional advancement within a wide range of disciplines throughout Central Queensland.<br> <br> Are you looking for a great job with a challenging and rewarding career?<br>        Then join CQ Health to connect, engage and grow as we change lives for the better.                                                                                                                                                                                                                                                                                                                                                                                                                                                                                                                                                                                                                                                                                                                                                                                                                                                                                                                                                                                                                                                                                                                                                                                                                                                                                                                                                                                                                                                                                                                                                                                                                                                                                                                                                                                                                                                                                                                                                                                                                                                                                                                                                                                                                                                                                                                                                                                                                                                                                                                                                                                                                                                                                                                                                                                                                                                                                                                                                                                                                                                                                                                                                                                                                                                                                                                                                                                                                                                                                                                                                                                                                                                                                                                                                                                                                                                                                  50\n",
       "<p><strong>About our Group</strong></p>\\n        <p>You may not have heard of us, but it’s likely you’ve come across us in action. At Vita Group, we help Australians connect to innovative experiences with technology through our Telstra stores and we guide small businesses and industry leaders to\\n          take control of technologies that will empower them to thrive and soar into new possibilities.</p>\\n        <p><strong>Responsibilities</strong></p>\\n        <ul>\\n          <li>Engage in highly personalised consultations with our customers to explore how technology solutions can enhance their way of life</li>\\n          <li>Tailor ‘whole-of-home/business’ technology solutions that meet individual customer needs across multiple solution sets</li>\\n          <li>Build return business through creating and managing customer relationships</li>\\n          <li>Deliver exceptional customer service and exceed expectations</li>\\n          <li>Achieve individual daily, weekly and monthly targets</li>\\n          <li>Drive your own professional development based on regular feedback, coaching and training sessions</li>\\n        </ul>\\n        <p><strong>Your Attributes</strong></p>\\n        <p>You are a naturally curious and energetic individual with exceptional communication and negotiation skills. You love talking to people and have a strong ability to build trust and rapport with each of your customers. A passionate problem solver,\\n          you thrive on challenges and focus on self-development to excel in a high-performance environment.</p>\\n        <p><strong>Benefits</strong></p>\\n        <ul>\\n          <li>Leadership and training programs</li>\\n          <li>Flourish: in-house growth and development portal</li>\\n          <li>Performance-based incentives</li>\\n          <li>Discounts from our strategic partners</li>\\n          <li>Above market hourly rate</li>\\n          <li>Education and Child Care allowance</li>\\n          <li>Paid days off on your birthday and to volunteer</li>\\n        </ul>\\n        <p>Apply today or view our careers page at&nbsp;http://careers.vitagroup.com.au to learn further about our business and dynamic culture.</p>\\n        <div id=\"FlashContent\" class=\"videoembed\"><iframe title=\"VideoJobAd\" src=\"https://www.youtube.com/embed/VMbbYbQ2QTg?rel=0\" allowfullscreen=\"\" width=\"100%\" height=\"100%\" frameborder=\"0\"></iframe></div>                                                                                                                                                                                                                                                                                                                                                                                                                                                                                                                                                                                                                                                                                                                                                                                                                                                                                                                                                                                                                                                                                                                                                                                                                                                                                                                                                                                                                                                                                                                                                                                                                                                                                                                                                 46\n",
       "<p>Coles Express is transforming. Through a renewed fresh food and convenience focus for “Customers on the go”, we now offer much more than just fuel! With over 700 stores across Australia, our business is not only driven by our customers, but our\\n          6,500 dedicated team members. Come and join our dynamic team and be part of our transformation.</p>\\n        <p><strong>About The Role</strong></p>\\n        <p>We’re looking for a passionate and driven Customer Service Representative who can multi-task in a fast paced environment, and take on the following responsibilities.</p>\\n        <ul>\\n          <li>Provide timely and friendly customer service</li>\\n          <li>Ensure our stores are clean, safe and inviting for our customers</li>\\n          <li>Maintain store presentation by replenishing and rotating stock</li>\\n          <li>General housekeeping&nbsp; of the forecourt, store and amenities</li>\\n        </ul>\\n        <p><strong>About You</strong></p>\\n        <p>To be successful in this role you will have the following:</p>\\n        <ul>\\n          <li>A high level of customer service, communication and cash handling skills</li>\\n          <li>Previous experience in a retail, hospitality or customer facing role (ideal but not essential)</li>\\n          <li>The ability to promote weekly products and specials to grow sales</li>\\n          <li>Availability to work various shift types, including early mornings from 5am, day shifts, evenings until 12 midnight, overnight shifts and weekends</li>\\n          <li>Willing to work on your own unsupervised and travel to nearby sites to work extra shifts as required (drivers licence and own vehicle highly regarded for this role)</li>\\n          <li>Capable of undertaking heavy lifting and being on your feet for long periods of time</li>\\n          <li>The ability to think on your feet and problem solve in any situation</li>\\n        </ul>\\n        <p><strong>About Us</strong></p>\\n        <p>Our team is at the heart of what we do and in return we can offer you:</p>\\n        <ul>\\n          <li>The opportunity to work within a supportive and friendly team environment</li>\\n          <li>Career progression opportunities and ongoing training and development</li>\\n          <li>Great team member discounts and access to a rewards program exclusive to team members; offering exciting deals and discounts on a range of events, entertainment and products.</li>\\n        </ul>\\n        <p>Whether you’re looking to fuel a long term career with us or seeking a part time or casual job to suit &nbsp;your life right now, maybe it's time you considered a job with Coles Express.</p>\\n        <p><em>At Coles Express, we aim to ensure our team represents the community we serve, embracing the richness of Australia's diverse population.</em></p>                                                                                                                                                                                                                                                                                                                                                                                                                                                                                                                                                                                                                                                                                                                                                                                                                                                                                                                                                                                                                                                                                                                                                                                                                                                                                              40\n",
       "                                                                                                                                                                                                                                                                                                                                                                                                                                                                                                                                                                                                                                                                                                                                                                                                                                                                                                                                                                                                                                                                                                                                                                                                                                                                                                                                                                                                                                                                                                                                                                                                                                                                                                                                                                                                                                                                                                                                                                                                                                                                                                                                                                                                                                                                                                                                                                                                                                                                                                                                                                                                                                                                                                                                                                                                                                                                                                                                                                                                                                                                                                                                                                                                                                                                                                                                                                                                                                                                                                                                                                                                                                                                                                                                                                                                                                                                                                                                                                                                                                                                                                                                                                                                                                    ... \n",
       "<p><strong>Medacs Healthcare</strong> is recruiting an <strong>Occupational Therapist </strong>for an accredited rehabilitation and NDIS provider based in Wollongong</p>\\n          <ul>\\n            <li>Full or part-time</li>\\n            <li>Competitive salary, dependent upon experience</li>\\n            <li>Busy, mixed caseload available immediately</li>\\n            <li>Work from home</li>\\n            <li>Flexible start dates</li>\\n            <li>Great culture and working environment with a supportive team</li>\\n            <li>Opportunities to progress to senior/lead roles</li>\\n            <li>Paediatric, adolescent and adult referrals, private, NDIS, WorkCover funding - mixed caseload or specialise</li>\\n            <li>Up to $60 an hour locum rates</li>\\n          </ul>\\n          <p><strong>The role can feature any/all of the following, depending upon your preferences:</strong></p>\\n          <ul>\\n            <li>NDIS WorkCover, Income Protection &amp; Disability assessments, service agreements, intervention and treatments</li>\\n            <li>Home assessments and modifications</li>\\n            <li>Equipment prescription</li>\\n            <li>Wheelchair assessments</li>\\n            <li>Guide and Mentor other staff through the NDIS</li>\\n            <li>Develop treatment plans and set goals</li>\\n            <li>Establish excellent relationships with your client base through the provision of excellent care and customer service.</li>\\n            <li>Functional Capacity Evaluations</li>\\n            <li>Pre-employment Assessments</li>\\n            <li>Ergonomic Assessments</li>\\n          </ul>\\n          <p>This role would suit an Occupational Therapist with experience of one of the following:</p>\\n          <ul>\\n            <li>NDIS</li>\\n            <li>Workers Comp</li>\\n            <li>Hospital</li>\\n            <li>Disability</li>\\n            <li>Community</li>\\n            <li>Aged Care</li>\\n          </ul>\\n          <p><strong>What will you need?</strong></p>\\n          <ul>\\n            <li>Bachelor’s degree or equivalent in Occupational Therapy</li>\\n            <li>Evidence of professional registration - AHPRA</li>\\n            <li>At least 2 years' post-qualifying experience</li>\\n            <li>Clinical experience, preferably within a hospital</li>\\n            <li>Working knowledge of NDIS ideal but not essential</li>\\n            <li>A current resume, up to date with your experience and qualifications</li>\\n            <li>Current National Police Check, no more than 12 months old</li>\\n            <li>Two references, including your most recent position or clinical placement</li>\\n            <li>Current Driver's License and access to a vehicle</li>\\n          </ul>\\n          <p><strong>About Us</strong></p>\\n          <p>Medacs Healthcare is a leading global healthcare staffing and services company providing locum, temporary and permanent healthcare recruitment, workforce management solutions, managed healthcare and home care to the public and private sectors.</p>\\n          <p>In Australia, Medacs Healthcare provides locum and permanent doctor, nursing and allied health jobs in Australia for resident and overseas-trained professionals. We have more than 20 years of experience and expertise in medical recruitment in\\n            Australia and New Zealand.</p>\\n          <p>Specialist, dedicated Recruitment Consultants to support and guide you</p>\\n          <ul>\\n            <li>Australia-wide career opportunities</li>\\n            <li>Excellent rates of pay</li>\\n            <li>Unique insight into the various clients we work with, across both the public and private sectors</li>\\n          </ul>\\n          <p><strong>To Apply</strong></p>\\n          <p>If you are interested in this position and would like to know more please click ‘Apply Now’ and follow the prompts. Alternatively, you can contact Awestha Momand on <a class=\"_2hhDNI-\" data-contact-match=\"true\" href=\"tel:02 8248 2977\">02 8248 2977</a> for further information and a confidential discussion.</p>      1\n",
       "<p>Busy Beverage Distribution Company in Southside of Brisbane requires a permanent full time delivery driver to commence as soon as possible.<strong>&nbsp; This position will entail making deliveries across Brisbane and the Sunshine Coast or Gold Coast on a daily basis</strong>.&nbsp; <strong>The</strong> <strong>delivery driver must have knowledge of the areas</strong> and will be required to work alone, obtain/prepare appropriate documentation and collect cash/cheques from customers.from customers.</p> <p>To be successful in this role, the applicant must have the following qualities:-</p> <ul> <li><strong>LR (Light Rigid) Class Licence </strong></li> <li>Responsibility/Diligence.</li> <li>Good driving history.</li> <li>Sound mathematical/communication and organizational skills.</li> <li><strong>Experience in similar position.</strong></li> <li>Demonstrated level of responsibility.</li> <li>Ability to work shifts, with two days early starts.</li> <li>Ability to work unsupervised.</li> <li>Cash handling experience.</li> <li>Warehousing/picking experience.</li> <li>Forklift licence preferred.</li> <li><strong>Excellent English speaking skills</strong></li> <li>Australian permanent residence / citizenship</li></ul> <p>Salary will be negotiated based on experience.</p> <p>Should you consider that you have the qualities required for this position please email an application, together with a resume and references to <a class=\"_2L3qcJ0\" data-contact-match=\"true\" href=\"mailto:info@kellysdist.com.au\">info@kellysdist.com.au</a></p> <p>&nbsp;</p>                                                                                                                                                                                                                                                                                                                                                                                                                                                                                                                                                                                                                                                                                                                                                                                                                                                                                                                                                                                                                                                                                                                                                                                                                                                                                                                                                                                                                                                                                                                                                                                                                                                                                                                                                                                                                                                                                                                                                                                                                                                                                                                                                                                                                                                                                                                                                                                                                                                                                                                                                                                                            1\n",
       "<p>ECH is a profit-for-purpose enterprise and is one of the largest integrated providers of retirement village accommodation and aged care services in South Australia.</p>\\n        <p>ECH enables people to live confidently at home and have the best possible life as they age. Being non-faith based, ECH welcomes people from all backgrounds.</p>\\n        <p>We are seeking a Grounds Maintenance Officer to provide grounds maintenance services for our ECH villages.</p>\\n        <p><strong>Key responsibilities will include:</strong></p>\\n        <ul>\\n          <li>Ensuring all grounds maintenance and associated requests are carried out to the approved standards</li>\\n          <li>Undertake planned and unplanned ground maintenance services as required</li>\\n          <li>Assist your manager in the preparation of annual grounds maintenance plans and programs</li>\\n          <li>Use initiative and discretion to analyse and address resident/customer complaints and implement effective responses and solutions</li>\\n        </ul>\\n        <p><strong>About you:</strong></p>\\n        <ul>\\n          <li>Experienced in landscaping and gardening activities</li>\\n          <li>An understanding of paving, stormwater and irrigation systems</li>\\n          <li>Ability to manage multiple tasks, and flexibility in dealing with changing priorities and managing competing demands</li>\\n          <li>Willingness to undertake appropriate vocational and personal development programs</li>\\n          <li>Experience in aged care is highly desirable</li>\\n          <li>Current driver’s licence</li>\\n          <li>Trade qualification in gardening or horticulture desirable</li>\\n        </ul>\\n        <p>All that we do is grounded in our core values of integrity, empathy and respect; with a good dose of courage, inspiration and preparedness to take risks thrown in.</p>\\n        <p>ECH is highly committed to being inclusive of clients and staff with differing backgrounds. ECH is constantly tailoring its services to reach diverse social groups, such as culturally and linguistically diverse (CALD), lesbian, gay, bisexual,\\n          transgender and intersex (LGBTI), and Aboriginal and Torres Strait Islander communities.&nbsp;</p>\\n        <p>If you share our values and want to be part of an exciting future, please APPLY NOW by completing the personal details and questions below and&nbsp;submitting your cover letter and Resume/CV&nbsp;on the next page.</p>\\n        <p>Expressions of interest should be addressed to Rebecca Hunt, HR Support Officer</p>\\n        <p>Applications Close: Monday 19 Nov, 9am</p>                                                                                                                                                                                                                                                                                                                                                                                                                                                                                                                                                                                                                                                                                                                                                                                                                                                                                                                                                                                                                                                                                                                                                                                                                                                                                                                                                                                                                                                                                                                  1\n",
       "<p>We are looking for a Qualified Pre-press &amp; digital press Operator for a full time role working 5 days Monday - Friday.<br><br>Busy &amp; Growing print company&nbsp;operating the latest prepress and digital print software.and machinery. We are&nbsp;&nbsp;Seeking a qualified pre-press operator that can also work in a digital printing operational role.&nbsp;</p> <p>The successful applicant would need to have extensive experience with&nbsp;prepress/colour management workflow software, Heidelberg's Prinect &nbsp;and digital print manager software is ideal.</p> <p><br>A strong background in colour management and print production is key to being successful in this role.</p>                                                                                                                                                                                                                                                                                                                                                                                                                                                                                                                                                                                                                                                                                                                                                                                                                                                                                                                                                                                                                                                                                                                                                                                                                                                                                                                                                                                                                                                                                                                                                                                                                                                                                                                                                                                                                                                                                                                                                                                                                                                                                                                                                                                                                                                                                                                                                                                                                                                                                                                                                                                                                                                                                                                                                                                                                                                                                                                                                                                                                                                                                                                                                                                                                                                                                                                                                                                                                                                                                                                             1\n",
       "<p><strong>ABOUT THIS ROLE</strong></p>\\n          <p>Our client is a leader in providing expert engineering solutions to the Australian Government and Defence Sector. The successful applicant will be an experienced Cost Estimator that has extensive experience and knowledge and understanding of\\n            commercial and contract scheduling, cost estimation, cost quality data analysis, commercial process improvement, and planning. I am seeking a pro-active individual that has a strategic mindset. Someone who is looking to build on their proven\\n            Defence industry experience whilst developing their consulting skills.</p>\\n          <p> </p>\\n          <p><strong>KEY RESPONSIBILITIES</strong></p>\\n          <ul>\\n            <li>Generate and manage estimates to support Sustainment Activity Review/Defence Management Financial Planning cycle.</li>\\n            <li>Conduct estimating and costing activities to support requirements across the project</li>\\n            <li>Evaluate quotations and develop risk assessments</li>\\n            <li>Ensure compliance of estimates are in accordance with company and Defence processes.</li>\\n            <li>Support sustainment activity by providing cost quality data analysis.</li>\\n          </ul>\\n          <p> </p>\\n          <p><strong>SKILLS &amp; EXPERINECE NEEDED</strong></p>\\n          <ul>\\n            <li>Significant experience in a similar role within the Defence sector</li>\\n            <li>Must have sound knowledge of Earned Vale Management, Estimating, and Scheduling concepts</li>\\n            <li>Must have demonstratable understanding of commercial process improvement</li>\\n            <li>Experience using EVMS or scheduling tools such as Cobra, Open Plan Professional, Primavera, MS Project, Advanced MS Excel etc.</li>\\n            <li>High level of attention to detail</li>\\n            <li>Candidates must have a current Defence security clearance to apply</li>\\n          </ul>\\n          <p> </p>\\n          <p><strong>BENEFITS</strong></p>\\n          <ul>\\n            <li>Excellent career progression &amp; development</li>\\n            <li>Ability to work on state of the art technology</li>\\n            <li>Competitive salary</li>\\n            <li>Dynamic working environment</li>\\n          </ul>\\n          <p> </p>\\n          <p>This is an urgent role and our client is interviewing immediately - APPLY NOW.</p>\\n          <p>Kinexus is Australia's Leading supplier of Recruitment Solutions to the Defence and Aerospace Sectors. Working within the Defence environment for over 17 years, we partner with some of the largest Defence projects and organisations in Australia.</p>\\n          <p>SK943273A</p>\\n          <p>#KF-1</p>\\n          <p style=\"text-align:center;\"><em>To apply online, please click on the appropriate link below and attach your resume as a word document. Alternatively, please contact Kelly Foxwell on <a class=\"_2hhDNI-\" data-contact-match=\"true\" href=\"tel:0400 221 065\">0400 221 065</a> quoting the Job Title for this position.</em><br> <strong>Visit</strong><strong> www.kinexus.com.au </strong><strong>to view more jobs.</strong></p>                                                                                                                                                                                                                                                                                                                                                                                                                                                                                                                                                                                                                                                                                                                                                                                                                                                                                                                                                 1\n",
       "Name: FullDescription, Length: 127676, dtype: int64"
      ]
     },
     "execution_count": 21,
     "metadata": {},
     "output_type": "execute_result"
    }
   ],
   "source": [
    "#Describe datset\n",
    "\n",
    "df[\"FullDescription\"].value_counts()"
   ]
  },
  {
   "cell_type": "code",
   "execution_count": 22,
   "metadata": {},
   "outputs": [
    {
     "data": {
      "text/plain": [
       "0      27606\n",
       "40     17708\n",
       "60     14108\n",
       "100    13062\n",
       "70     12932\n",
       "80     12582\n",
       "50     12559\n",
       "30     12441\n",
       "150    11738\n",
       "120    10651\n",
       "200     4612\n",
       "Name: LowestSalary, dtype: int64"
      ]
     },
     "execution_count": 22,
     "metadata": {},
     "output_type": "execute_result"
    }
   ],
   "source": [
    "#Describe datset\n",
    "\n",
    "df[\"LowestSalary\"].value_counts()"
   ]
  },
  {
   "cell_type": "code",
   "execution_count": 23,
   "metadata": {},
   "outputs": [
    {
     "data": {
      "text/plain": [
       "30     27606\n",
       "50     17708\n",
       "70     14108\n",
       "120    13062\n",
       "80     12932\n",
       "100    12582\n",
       "60     12559\n",
       "40     12441\n",
       "200    11738\n",
       "150    10651\n",
       "250     4612\n",
       "Name: HighestSalary, dtype: int64"
      ]
     },
     "execution_count": 23,
     "metadata": {},
     "output_type": "execute_result"
    }
   ],
   "source": [
    "#Describe datset\n",
    "\n",
    "df[\"HighestSalary\"].value_counts()"
   ]
  },
  {
   "cell_type": "code",
   "execution_count": 24,
   "metadata": {},
   "outputs": [
    {
     "data": {
      "text/plain": [
       "Full Time          96410\n",
       "Contract/Temp      26238\n",
       "Casual/Vacation    13496\n",
       "Part Time          10622\n",
       "Name: JobType, dtype: int64"
      ]
     },
     "execution_count": 24,
     "metadata": {},
     "output_type": "execute_result"
    }
   ],
   "source": [
    "#Describe datset\n",
    "\n",
    "df[\"JobType\"].value_counts()"
   ]
  },
  {
   "cell_type": "code",
   "execution_count": 25,
   "metadata": {},
   "outputs": [],
   "source": [
    "df[\"Date\"] = df[\"Date\"].replace(to_replace=r'T.*', value='', regex=True)\n",
    "df[\"Date\"] = pd.to_datetime(df[\"Date\"])\n",
    "df[\"AverageSalary\"] = (df[\"LowestSalary\"] + df[\"HighestSalary\"])/2 "
   ]
  },
  {
   "cell_type": "code",
   "execution_count": 26,
   "metadata": {},
   "outputs": [
    {
     "data": {
      "image/png": "[encoded data removed]",
      "text/plain": [
       "<Figure size 864x504 with 1 Axes>"
      ]
     },
     "metadata": {
      "needs_background": "light"
     },
     "output_type": "display_data"
    }
   ],
   "source": [
    "df_account = df[df[\"Classification\"] == \"Accounting\"]\n",
    "df_account_subclassifications = df_account.groupby('SubClassification').count()\n",
    "df_account_subclassifications['Label'] = df_account_subclassifications.index\n",
    "df_account_subclassifications['Count'] = df_account_subclassifications[\"Id\"]\n",
    "df_account_subclassifications = df_account_subclassifications.sort_values(by=['Count'], ascending = False)\n",
    "\n",
    "plt.figure(figsize=(12,7))\n",
    "barChart = sns.barplot(x='Label', y='Count', data=df_account_subclassifications, dodge=False)\n",
    "barChart.set_xticklabels(\n",
    "    barChart.get_xticklabels(), \n",
    "    rotation=45, \n",
    "    horizontalalignment='right',\n",
    "    fontweight='light',\n",
    "    fontsize='small'\n",
    ")\n",
    "\n",
    "plt.title('Accounting', {'fontsize': '24' })\n",
    "plt.xlabel('Sub-sectors')\n",
    "plt.ylabel('Number of job postings')\n",
    "plt.show()"
   ]
  },
  {
   "cell_type": "code",
   "execution_count": 27,
   "metadata": {},
   "outputs": [
    {
     "data": {
      "image/png": "[encoded data removed]",
      "text/plain": [
       "<Figure size 720x720 with 1 Axes>"
      ]
     },
     "metadata": {
      "needs_background": "light"
     },
     "output_type": "display_data"
    }
   ],
   "source": [
    "#Get the average salary ranges using \"AverageSalary\", the total jobs of each range and display them in the bar chart\n",
    "df[\"AverageSalary\"] = (df[\"LowestSalary\"] + df[\"HighestSalary\"])/2 \n",
    "f, ax = plt.subplots(figsize=(10, 10))\n",
    "df.groupby('AverageSalary')['Id'].sum().head(10).plot(kind='bar')\n",
    "plt.show()"
   ]
  },
  {
   "cell_type": "code",
   "execution_count": 28,
   "metadata": {},
   "outputs": [
    {
     "data": {
      "text/plain": [
       "<matplotlib.patches.Circle at 0x1e11bd00408>"
      ]
     },
     "execution_count": 28,
     "metadata": {},
     "output_type": "execute_result"
    },
    {
     "data": {
      "image/png": "[encoded data removed]",
      "text/plain": [
       "<Figure size 504x504 with 1 Axes>"
      ]
     },
     "metadata": {},
     "output_type": "display_data"
    }
   ],
   "source": [
    "#Display the list of job types and the number of jobs of each type using pie chart\n",
    "#create dataframe for job type\n",
    "df_jobtype = df[df['JobType'].isna()==False]\n",
    "df_jobtype = df_jobtype.groupby('JobType').count()\n",
    "df_jobtype['Label'] = df_jobtype.index\n",
    "df_jobtype['Count'] = df_jobtype[\"Id\"]\n",
    "\n",
    "#job types to plot\n",
    "fig, ax = plt.subplots(figsize=(7,7)) \n",
    "ax.pie(df_jobtype['Count'], colors=sns.color_palette(\"RdYlGn_r\", len(df_jobtype)),labels=df_jobtype['Label'],wedgeprops={'alpha':0.7},autopct='%1.1f')\n",
    "ax.set_title('Job Posts by Job Type', loc='center')\n",
    "\n",
    "# add centre circle to make it a donut\n",
    "centre_circle2 = plt.Circle((0,0),0.45,color='black', fc='white',linewidth=0)\n",
    "ax.add_patch(centre_circle2)"
   ]
  },
  {
   "cell_type": "code",
   "execution_count": null,
   "metadata": {},
   "outputs": [],
   "source": []
  },
  {
   "cell_type": "code",
   "execution_count": 35,
   "metadata": {},
   "outputs": [
    {
     "data": {
      "image/png": "[encoded data removed]",
      "text/plain": [
       "<Figure size 720x720 with 1 Axes>"
      ]
     },
     "metadata": {
      "needs_background": "light"
     },
     "output_type": "display_data"
    }
   ],
   "source": [
    "#Display the list of job sectors and the number of jobs of each type using horizontal bar chart\n",
    "\n",
    "plt.figure(figsize=(10,10))\n",
    "sns.countplot(y='Classification',data=df,order=df.Classification.value_counts().index)\n",
    "plt.title('Number of jobs by Classification', size=20)\n",
    "plt.xlabel('Number of Jobs')\n",
    "plt.ylabel('Classification')\n",
    "plt.show()"
   ]
  },
  {
   "cell_type": "code",
   "execution_count": 30,
   "metadata": {},
   "outputs": [],
   "source": [
    "#Choose your favorite location. Visualize the market share of that location in pie chart"
   ]
  },
  {
   "cell_type": "code",
   "execution_count": 31,
   "metadata": {},
   "outputs": [
    {
     "ename": "ValueError",
     "evalue": "min() arg is an empty sequence",
     "output_type": "error",
     "traceback": [
      "\u001b[1;31m---------------------------------------------------------------------------\u001b[0m",
      "\u001b[1;31mValueError\u001b[0m                                Traceback (most recent call last)",
      "\u001b[1;32m<ipython-input-31-a3163f5d3dbf>\u001b[0m in \u001b[0;36m<module>\u001b[1;34m\u001b[0m\n\u001b[0;32m      3\u001b[0m \u001b[0mdf_topcities\u001b[0m \u001b[1;33m=\u001b[0m \u001b[0mdf\u001b[0m\u001b[1;33m[\u001b[0m\u001b[0mdf\u001b[0m\u001b[1;33m[\u001b[0m\u001b[1;34m\"Location\"\u001b[0m\u001b[1;33m]\u001b[0m \u001b[1;33m==\u001b[0m \u001b[1;36m1\u001b[0m\u001b[1;33m]\u001b[0m\u001b[1;33m.\u001b[0m\u001b[0msort_values\u001b[0m\u001b[1;33m(\u001b[0m\u001b[1;34m'AverageSalary'\u001b[0m\u001b[1;33m)\u001b[0m\u001b[1;33m.\u001b[0m\u001b[0mhead\u001b[0m\u001b[1;33m(\u001b[0m\u001b[1;36m30\u001b[0m\u001b[1;33m)\u001b[0m\u001b[1;33m\u001b[0m\u001b[1;33m\u001b[0m\u001b[0m\n\u001b[0;32m      4\u001b[0m \u001b[0mplt\u001b[0m\u001b[1;33m.\u001b[0m\u001b[0mfigure\u001b[0m \u001b[1;33m(\u001b[0m\u001b[0mfigsize\u001b[0m\u001b[1;33m=\u001b[0m\u001b[1;33m(\u001b[0m\u001b[1;36m14\u001b[0m\u001b[1;33m,\u001b[0m\u001b[1;36m8\u001b[0m\u001b[1;33m)\u001b[0m\u001b[1;33m)\u001b[0m\u001b[1;33m\u001b[0m\u001b[1;33m\u001b[0m\u001b[0m\n\u001b[1;32m----> 5\u001b[1;33m \u001b[0mbox_plt_high\u001b[0m \u001b[1;33m=\u001b[0m \u001b[0msns\u001b[0m\u001b[1;33m.\u001b[0m\u001b[0mboxplot\u001b[0m\u001b[1;33m(\u001b[0m\u001b[0mx\u001b[0m\u001b[1;33m=\u001b[0m\u001b[1;34m'Location'\u001b[0m\u001b[1;33m,\u001b[0m\u001b[0my\u001b[0m\u001b[1;33m=\u001b[0m\u001b[1;34m'AverageSalary'\u001b[0m\u001b[1;33m,\u001b[0m \u001b[0mdata\u001b[0m\u001b[1;33m=\u001b[0m\u001b[0mdf_topcities\u001b[0m\u001b[1;33m)\u001b[0m\u001b[1;33m\u001b[0m\u001b[1;33m\u001b[0m\u001b[0m\n\u001b[0m\u001b[0;32m      6\u001b[0m \u001b[0mbox_plt_high\u001b[0m\u001b[1;33m.\u001b[0m\u001b[0mset_xticklabels\u001b[0m \u001b[1;33m(\u001b[0m\u001b[0mbox_plt_high\u001b[0m\u001b[1;33m.\u001b[0m\u001b[0mget_xticklabels\u001b[0m\u001b[1;33m(\u001b[0m\u001b[1;33m)\u001b[0m\u001b[1;33m,\u001b[0m \u001b[0mrotation\u001b[0m \u001b[1;33m=\u001b[0m \u001b[1;36m90\u001b[0m\u001b[1;33m,\u001b[0m \u001b[0mfontsize\u001b[0m\u001b[1;33m=\u001b[0m\u001b[1;36m12\u001b[0m\u001b[1;33m)\u001b[0m\u001b[1;33m\u001b[0m\u001b[1;33m\u001b[0m\u001b[0m\n\u001b[0;32m      7\u001b[0m \u001b[0mplt\u001b[0m\u001b[1;33m.\u001b[0m\u001b[0mtitle\u001b[0m\u001b[1;33m(\u001b[0m\u001b[1;34m'Top 30 locations and the average salary'\u001b[0m\u001b[1;33m,\u001b[0m\u001b[0msize\u001b[0m\u001b[1;33m=\u001b[0m\u001b[1;36m30\u001b[0m\u001b[1;33m)\u001b[0m\u001b[1;33m\u001b[0m\u001b[1;33m\u001b[0m\u001b[0m\n",
      "\u001b[1;32m~\\anaconda3\\lib\\site-packages\\seaborn\\categorical.py\u001b[0m in \u001b[0;36mboxplot\u001b[1;34m(x, y, hue, data, order, hue_order, orient, color, palette, saturation, width, dodge, fliersize, linewidth, whis, ax, **kwargs)\u001b[0m\n\u001b[0;32m   2239\u001b[0m     plotter = _BoxPlotter(x, y, hue, data, order, hue_order,\n\u001b[0;32m   2240\u001b[0m                           \u001b[0morient\u001b[0m\u001b[1;33m,\u001b[0m \u001b[0mcolor\u001b[0m\u001b[1;33m,\u001b[0m \u001b[0mpalette\u001b[0m\u001b[1;33m,\u001b[0m \u001b[0msaturation\u001b[0m\u001b[1;33m,\u001b[0m\u001b[1;33m\u001b[0m\u001b[1;33m\u001b[0m\u001b[0m\n\u001b[1;32m-> 2241\u001b[1;33m                           width, dodge, fliersize, linewidth)\n\u001b[0m\u001b[0;32m   2242\u001b[0m \u001b[1;33m\u001b[0m\u001b[0m\n\u001b[0;32m   2243\u001b[0m     \u001b[1;32mif\u001b[0m \u001b[0max\u001b[0m \u001b[1;32mis\u001b[0m \u001b[1;32mNone\u001b[0m\u001b[1;33m:\u001b[0m\u001b[1;33m\u001b[0m\u001b[1;33m\u001b[0m\u001b[0m\n",
      "\u001b[1;32m~\\anaconda3\\lib\\site-packages\\seaborn\\categorical.py\u001b[0m in \u001b[0;36m__init__\u001b[1;34m(self, x, y, hue, data, order, hue_order, orient, color, palette, saturation, width, dodge, fliersize, linewidth)\u001b[0m\n\u001b[0;32m    442\u001b[0m \u001b[1;33m\u001b[0m\u001b[0m\n\u001b[0;32m    443\u001b[0m         \u001b[0mself\u001b[0m\u001b[1;33m.\u001b[0m\u001b[0mestablish_variables\u001b[0m\u001b[1;33m(\u001b[0m\u001b[0mx\u001b[0m\u001b[1;33m,\u001b[0m \u001b[0my\u001b[0m\u001b[1;33m,\u001b[0m \u001b[0mhue\u001b[0m\u001b[1;33m,\u001b[0m \u001b[0mdata\u001b[0m\u001b[1;33m,\u001b[0m \u001b[0morient\u001b[0m\u001b[1;33m,\u001b[0m \u001b[0morder\u001b[0m\u001b[1;33m,\u001b[0m \u001b[0mhue_order\u001b[0m\u001b[1;33m)\u001b[0m\u001b[1;33m\u001b[0m\u001b[1;33m\u001b[0m\u001b[0m\n\u001b[1;32m--> 444\u001b[1;33m         \u001b[0mself\u001b[0m\u001b[1;33m.\u001b[0m\u001b[0mestablish_colors\u001b[0m\u001b[1;33m(\u001b[0m\u001b[0mcolor\u001b[0m\u001b[1;33m,\u001b[0m \u001b[0mpalette\u001b[0m\u001b[1;33m,\u001b[0m \u001b[0msaturation\u001b[0m\u001b[1;33m)\u001b[0m\u001b[1;33m\u001b[0m\u001b[1;33m\u001b[0m\u001b[0m\n\u001b[0m\u001b[0;32m    445\u001b[0m \u001b[1;33m\u001b[0m\u001b[0m\n\u001b[0;32m    446\u001b[0m         \u001b[0mself\u001b[0m\u001b[1;33m.\u001b[0m\u001b[0mdodge\u001b[0m \u001b[1;33m=\u001b[0m \u001b[0mdodge\u001b[0m\u001b[1;33m\u001b[0m\u001b[1;33m\u001b[0m\u001b[0m\n",
      "\u001b[1;32m~\\anaconda3\\lib\\site-packages\\seaborn\\categorical.py\u001b[0m in \u001b[0;36mestablish_colors\u001b[1;34m(self, color, palette, saturation)\u001b[0m\n\u001b[0;32m    314\u001b[0m         \u001b[1;31m# Determine the gray color to use for the lines framing the plot\u001b[0m\u001b[1;33m\u001b[0m\u001b[1;33m\u001b[0m\u001b[1;33m\u001b[0m\u001b[0m\n\u001b[0;32m    315\u001b[0m         \u001b[0mlight_vals\u001b[0m \u001b[1;33m=\u001b[0m \u001b[1;33m[\u001b[0m\u001b[0mcolorsys\u001b[0m\u001b[1;33m.\u001b[0m\u001b[0mrgb_to_hls\u001b[0m\u001b[1;33m(\u001b[0m\u001b[1;33m*\u001b[0m\u001b[0mc\u001b[0m\u001b[1;33m)\u001b[0m\u001b[1;33m[\u001b[0m\u001b[1;36m1\u001b[0m\u001b[1;33m]\u001b[0m \u001b[1;32mfor\u001b[0m \u001b[0mc\u001b[0m \u001b[1;32min\u001b[0m \u001b[0mrgb_colors\u001b[0m\u001b[1;33m]\u001b[0m\u001b[1;33m\u001b[0m\u001b[1;33m\u001b[0m\u001b[0m\n\u001b[1;32m--> 316\u001b[1;33m         \u001b[0mlum\u001b[0m \u001b[1;33m=\u001b[0m \u001b[0mmin\u001b[0m\u001b[1;33m(\u001b[0m\u001b[0mlight_vals\u001b[0m\u001b[1;33m)\u001b[0m \u001b[1;33m*\u001b[0m \u001b[1;36m.6\u001b[0m\u001b[1;33m\u001b[0m\u001b[1;33m\u001b[0m\u001b[0m\n\u001b[0m\u001b[0;32m    317\u001b[0m         \u001b[0mgray\u001b[0m \u001b[1;33m=\u001b[0m \u001b[0mmpl\u001b[0m\u001b[1;33m.\u001b[0m\u001b[0mcolors\u001b[0m\u001b[1;33m.\u001b[0m\u001b[0mrgb2hex\u001b[0m\u001b[1;33m(\u001b[0m\u001b[1;33m(\u001b[0m\u001b[0mlum\u001b[0m\u001b[1;33m,\u001b[0m \u001b[0mlum\u001b[0m\u001b[1;33m,\u001b[0m \u001b[0mlum\u001b[0m\u001b[1;33m)\u001b[0m\u001b[1;33m)\u001b[0m\u001b[1;33m\u001b[0m\u001b[1;33m\u001b[0m\u001b[0m\n\u001b[0;32m    318\u001b[0m \u001b[1;33m\u001b[0m\u001b[0m\n",
      "\u001b[1;31mValueError\u001b[0m: min() arg is an empty sequence"
     ]
    },
    {
     "data": {
      "text/plain": [
       "<Figure size 1008x576 with 0 Axes>"
      ]
     },
     "metadata": {},
     "output_type": "display_data"
    }
   ],
   "source": [
    "#Can you find the salary distribution for the top 30 cities for the number of job postings? Visualize them in the boxplot chart.\n",
    "\n",
    "df_topcities = df[df[\"Location\"] == 1].sort_values('AverageSalary').head(30)\n",
    "plt.figure (figsize=(14,8))\n",
    "box_plt_high = sns.boxplot(x='Location',y='AverageSalary', data=df_topcities)\n",
    "box_plt_high.set_xticklabels (box_plt_high.get_xticklabels(), rotation = 90, fontsize=12)\n",
    "plt.title('Top 30 locations and the average salary',size=30)\n",
    "plt.ylabel('Average Salary',fontsize=14)\n",
    "plt.xlabel('Locations',fontsize=14)"
   ]
  }
 ],
 "metadata": {
  "kernelspec": {
   "display_name": "Python 3",
   "language": "python",
   "name": "python3"
  },
  "language_info": {
   "codemirror_mode": {
    "name": "ipython",
    "version": 3
   },
   "file_extension": ".py",
   "mimetype": "text/x-python",
   "name": "python",
   "nbconvert_exporter": "python",
   "pygments_lexer": "ipython3",
   "version": "3.7.6"
  }
 },
 "nbformat": 4,
 "nbformat_minor": 4
}
