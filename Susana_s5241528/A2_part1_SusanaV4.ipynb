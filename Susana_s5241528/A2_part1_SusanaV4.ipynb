{
 "cells": [
  {
   "cell_type": "code",
   "execution_count": 2,
   "metadata": {},
   "outputs": [
    {
     "name": "stdout",
     "output_type": "stream",
     "text": [
      "The Dataset consists of:  149999  rows and  13  columuns\n"
     ]
    },
    {
     "data": {
      "text/html": [
       "<div>\n",
       "<style scoped>\n",
       "    .dataframe tbody tr th:only-of-type {\n",
       "        vertical-align: middle;\n",
       "    }\n",
       "\n",
       "    .dataframe tbody tr th {\n",
       "        vertical-align: top;\n",
       "    }\n",
       "\n",
       "    .dataframe thead th {\n",
       "        text-align: right;\n",
       "    }\n",
       "</style>\n",
       "<table border=\"1\" class=\"dataframe\">\n",
       "  <thead>\n",
       "    <tr style=\"text-align: right;\">\n",
       "      <th></th>\n",
       "      <th>Id</th>\n",
       "      <th>Title</th>\n",
       "      <th>Company</th>\n",
       "      <th>Date</th>\n",
       "      <th>Location</th>\n",
       "      <th>Area</th>\n",
       "      <th>Classification</th>\n",
       "      <th>SubClassification</th>\n",
       "      <th>Requirement</th>\n",
       "      <th>FullDescription</th>\n",
       "      <th>LowestSalary</th>\n",
       "      <th>HighestSalary</th>\n",
       "      <th>JobType</th>\n",
       "    </tr>\n",
       "  </thead>\n",
       "  <tbody>\n",
       "    <tr>\n",
       "      <th>0</th>\n",
       "      <td>37404348</td>\n",
       "      <td>Casual Stock Replenisher</td>\n",
       "      <td>Aldi Stores</td>\n",
       "      <td>2018-10-07T00:00:00.000Z</td>\n",
       "      <td>Sydney</td>\n",
       "      <td>North West &amp; Hills District</td>\n",
       "      <td>Retail &amp; Consumer Products</td>\n",
       "      <td>Retail Assistants</td>\n",
       "      <td>Our Casual Stock Replenishers pride themselves...</td>\n",
       "      <td>NaN</td>\n",
       "      <td>0</td>\n",
       "      <td>30</td>\n",
       "      <td>NaN</td>\n",
       "    </tr>\n",
       "    <tr>\n",
       "      <th>1</th>\n",
       "      <td>37404337</td>\n",
       "      <td>Casual Stock Replenisher</td>\n",
       "      <td>Aldi Stores</td>\n",
       "      <td>2018-10-07T00:00:00.000Z</td>\n",
       "      <td>Richmond &amp; Hawkesbury</td>\n",
       "      <td>NaN</td>\n",
       "      <td>Retail &amp; Consumer Products</td>\n",
       "      <td>Retail Assistants</td>\n",
       "      <td>Our Casual Stock Replenishers pride themselves...</td>\n",
       "      <td>NaN</td>\n",
       "      <td>0</td>\n",
       "      <td>30</td>\n",
       "      <td>NaN</td>\n",
       "    </tr>\n",
       "    <tr>\n",
       "      <th>2</th>\n",
       "      <td>37404356</td>\n",
       "      <td>RETAIL SALES SUPERSTARS and STYLISTS Wanted - ...</td>\n",
       "      <td>LB Creative Pty Ltd</td>\n",
       "      <td>2018-10-07T00:00:00.000Z</td>\n",
       "      <td>Brisbane</td>\n",
       "      <td>CBD &amp; Inner Suburbs</td>\n",
       "      <td>Retail &amp; Consumer Products</td>\n",
       "      <td>Retail Assistants</td>\n",
       "      <td>BRAND NEW FLAGSHIP STORE OPENING - SUNSHINE PLAZA</td>\n",
       "      <td>NaN</td>\n",
       "      <td>0</td>\n",
       "      <td>30</td>\n",
       "      <td>NaN</td>\n",
       "    </tr>\n",
       "  </tbody>\n",
       "</table>\n",
       "</div>"
      ],
      "text/plain": [
       "         Id                                              Title  \\\n",
       "0  37404348                           Casual Stock Replenisher   \n",
       "1  37404337                           Casual Stock Replenisher   \n",
       "2  37404356  RETAIL SALES SUPERSTARS and STYLISTS Wanted - ...   \n",
       "\n",
       "               Company                      Date               Location  \\\n",
       "0          Aldi Stores  2018-10-07T00:00:00.000Z                 Sydney   \n",
       "1          Aldi Stores  2018-10-07T00:00:00.000Z  Richmond & Hawkesbury   \n",
       "2  LB Creative Pty Ltd  2018-10-07T00:00:00.000Z               Brisbane   \n",
       "\n",
       "                          Area              Classification  SubClassification  \\\n",
       "0  North West & Hills District  Retail & Consumer Products  Retail Assistants   \n",
       "1                          NaN  Retail & Consumer Products  Retail Assistants   \n",
       "2          CBD & Inner Suburbs  Retail & Consumer Products  Retail Assistants   \n",
       "\n",
       "                                         Requirement FullDescription  \\\n",
       "0  Our Casual Stock Replenishers pride themselves...             NaN   \n",
       "1  Our Casual Stock Replenishers pride themselves...             NaN   \n",
       "2  BRAND NEW FLAGSHIP STORE OPENING - SUNSHINE PLAZA             NaN   \n",
       "\n",
       "   LowestSalary  HighestSalary JobType  \n",
       "0             0             30     NaN  \n",
       "1             0             30     NaN  \n",
       "2             0             30     NaN  "
      ]
     },
     "execution_count": 2,
     "metadata": {},
     "output_type": "execute_result"
    }
   ],
   "source": [
    "# SUSANA'S CONTRIBUTION PART 1: Q6 to Q10\n",
    "# =======================================\n",
    "# Import necessary modules\n",
    "import numpy as np\n",
    "import pandas as pd\n",
    "import re\n",
    "\n",
    "# read the csv file into Dataframe: df, and check data is read ok\n",
    "df = pd.read_csv('data_assignment.csv')\n",
    "print(\"The Dataset consists of: \", df.shape[0], \" rows and \", df.shape[1], \" columuns\")\n",
    "df.head(3)  \n"
   ]
  },
  {
   "cell_type": "code",
   "execution_count": 3,
   "metadata": {},
   "outputs": [
    {
     "name": "stdout",
     "output_type": "stream",
     "text": [
      "There are 25 sub sectors within Accounting\n"
     ]
    }
   ],
   "source": [
    "# Choose job sector, how many sub-sectors are there in that sector? \n",
    "# I tried using Unique function, but couldn't make it work:  np.unique(sector, trim='fb')[source]\n",
    "\n",
    "# Chose the Accounting Sector, create new dataset\n",
    "sub_classification = df[df['Classification'] == \"Accounting\" ].groupby(['Classification','SubClassification'])\n",
    "sub_classification['Classification'].value_counts()\n",
    "print('There are',len(sub_classification), 'sub sectors within Accounting')"
   ]
  },
  {
   "cell_type": "code",
   "execution_count": 5,
   "metadata": {},
   "outputs": [
    {
     "name": "stdout",
     "output_type": "stream",
     "text": [
      "Sub Sectors and total job posting numbers:\n"
     ]
    },
    {
     "data": {
      "text/plain": [
       "Financial Accounting & Reporting           919\n",
       "Business Services & Corporate Advisory     805\n",
       "Accounts Officers/Clerks                   711\n",
       "Financial Managers & Controllers           674\n",
       "Payroll                                    530\n",
       "Accounts Receivable/Credit Control         461\n",
       "Taxation                                   411\n",
       "Management Accounting & Budgeting          410\n",
       "Accounts Payable                           398\n",
       "Analysis & Reporting                       389\n",
       "Assistant Accountants                      337\n",
       "Bookkeeping & Small Practice Accounting    255\n",
       "Audit - External                           126\n",
       "Audit - Internal                           121\n",
       "Other                                      106\n",
       "Management                                 100\n",
       "Strategy & Planning                         59\n",
       "Compliance & Risk                           58\n",
       "Systems Accounting & IT Audit               49\n",
       "Treasury                                    44\n",
       "Insolvency & Corporate Recovery             37\n",
       "Cost Accounting                             31\n",
       "Inventory & Fixed Assets                    17\n",
       "Forensic Accounting & Investigation         17\n",
       "Company Secretaries                         10\n",
       "Name: SubClassification, dtype: int64"
      ]
     },
     "execution_count": 5,
     "metadata": {},
     "output_type": "execute_result"
    }
   ],
   "source": [
    "# List the names of each sub-sector and it's job posting total\n",
    "print('Sub Sectors and total job posting numbers:')\n",
    "df[df['Classification'] == \"Accounting\" ]['SubClassification'].value_counts()"
   ]
  },
  {
   "cell_type": "code",
   "execution_count": 6,
   "metadata": {},
   "outputs": [
    {
     "data": {
      "text/plain": [
       "0 - 30       27606\n",
       "40 - 50      17708\n",
       "60 - 70      14108\n",
       "100 - 120    13062\n",
       "70 - 80      12932\n",
       "80 - 100     12582\n",
       "50 - 60      12559\n",
       "30 - 40      12441\n",
       "150 - 200    11738\n",
       "120 - 150    10651\n",
       "200 - 250     4612\n",
       "Name: SalaryRange, dtype: int64"
      ]
     },
     "execution_count": 6,
     "metadata": {},
     "output_type": "execute_result"
    }
   ],
   "source": [
    "# List the salary ranges and their total of job postings\n",
    "# read and set salary ranges from numbers to strings\n",
    "df['SalaryRange'] = df['LowestSalary'].astype(str) + ' - ' + df['HighestSalary'].astype(str)\n",
    "df.SalaryRange.value_counts()\n"
   ]
  },
  {
   "cell_type": "code",
   "execution_count": 9,
   "metadata": {},
   "outputs": [
    {
     "name": "stdout",
     "output_type": "stream",
     "text": [
      "           JobType  LowestSalary  HighestSalary\n",
      "0  Casual/Vacation             0            250\n",
      "1    Contract/Temp             0            250\n",
      "2        Full Time             0            250\n",
      "3        Part Time             0            250\n"
     ]
    }
   ],
   "source": [
    "#Q1.8 List the job types, in each job type, what are the lowest and highest salary?\n",
    "df_jobtype1 = df.groupby('JobType').agg({'LowestSalary':'min', 'HighestSalary':'max'})[['LowestSalary','HighestSalary']].reset_index()\n",
    "print(df_jobtype1.head())\n"
   ]
  },
  {
   "cell_type": "code",
   "execution_count": 8,
   "metadata": {},
   "outputs": [
    {
     "name": "stdout",
     "output_type": "stream",
     "text": [
      "                                                    Title  AverageSalary\n",
      "0                                Casual Stock Replenisher           15.0\n",
      "1                                Casual Stock Replenisher           15.0\n",
      "2       RETAIL SALES SUPERSTARS and STYLISTS Wanted - ...           15.0\n",
      "3                                   Team member - Belrose           15.0\n",
      "4       Business Banking Contact Centre Specialist, Ni...           15.0\n",
      "...                                                   ...            ...\n",
      "149994                           Dance Studio Coordinator           15.0\n",
      "149995                                 Geology Technician           15.0\n",
      "149996                         Lead Product Manager UX/UI           15.0\n",
      "149997                             Junior Primary Teacher           15.0\n",
      "149998                                  Network Engineer            15.0\n",
      "\n",
      "[149999 rows x 2 columns]\n"
     ]
    }
   ],
   "source": [
    "# Q2.1 The salaries are set as HighestSalary and LowestSalary, calc AverageSalary for each job. ****????\n",
    "from math import *\n",
    "\n",
    "df['AverageSalary'] = (df[\"HighestSalary\"] + df[\"LowestSalary\"])/2\n",
    "print(df[['Title', 'AverageSalary']])"
   ]
  }
 ],
 "metadata": {
  "kernelspec": {
   "display_name": "Python 3",
   "language": "python",
   "name": "python3"
  },
  "language_info": {
   "codemirror_mode": {
    "name": "ipython",
    "version": 3
   },
   "file_extension": ".py",
   "mimetype": "text/x-python",
   "name": "python",
   "nbconvert_exporter": "python",
   "pygments_lexer": "ipython3",
   "version": "3.7.6"
  }
 },
 "nbformat": 4,
 "nbformat_minor": 4
}
