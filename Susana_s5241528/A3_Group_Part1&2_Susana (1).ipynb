{
 "cells": [
  {
   "cell_type": "code",
   "execution_count": 51,
   "metadata": {},
   "outputs": [
    {
     "name": "stdout",
     "output_type": "stream",
     "text": [
      "The Dataset consists of:  149999  rows and  13  columuns\n"
     ]
    },
    {
     "data": {
      "text/html": [
       "<div>\n",
       "<style scoped>\n",
       "    .dataframe tbody tr th:only-of-type {\n",
       "        vertical-align: middle;\n",
       "    }\n",
       "\n",
       "    .dataframe tbody tr th {\n",
       "        vertical-align: top;\n",
       "    }\n",
       "\n",
       "    .dataframe thead th {\n",
       "        text-align: right;\n",
       "    }\n",
       "</style>\n",
       "<table border=\"1\" class=\"dataframe\">\n",
       "  <thead>\n",
       "    <tr style=\"text-align: right;\">\n",
       "      <th></th>\n",
       "      <th>Id</th>\n",
       "      <th>Title</th>\n",
       "      <th>Company</th>\n",
       "      <th>Date</th>\n",
       "      <th>Location</th>\n",
       "      <th>Area</th>\n",
       "      <th>Classification</th>\n",
       "      <th>SubClassification</th>\n",
       "      <th>Requirement</th>\n",
       "      <th>FullDescription</th>\n",
       "      <th>LowestSalary</th>\n",
       "      <th>HighestSalary</th>\n",
       "      <th>JobType</th>\n",
       "    </tr>\n",
       "  </thead>\n",
       "  <tbody>\n",
       "    <tr>\n",
       "      <th>0</th>\n",
       "      <td>37404348</td>\n",
       "      <td>Casual Stock Replenisher</td>\n",
       "      <td>Aldi Stores</td>\n",
       "      <td>2018-10-07T00:00:00.000Z</td>\n",
       "      <td>Sydney</td>\n",
       "      <td>North West &amp; Hills District</td>\n",
       "      <td>Retail &amp; Consumer Products</td>\n",
       "      <td>Retail Assistants</td>\n",
       "      <td>Our Casual Stock Replenishers pride themselves...</td>\n",
       "      <td>NaN</td>\n",
       "      <td>0</td>\n",
       "      <td>30</td>\n",
       "      <td>NaN</td>\n",
       "    </tr>\n",
       "    <tr>\n",
       "      <th>1</th>\n",
       "      <td>37404337</td>\n",
       "      <td>Casual Stock Replenisher</td>\n",
       "      <td>Aldi Stores</td>\n",
       "      <td>2018-10-07T00:00:00.000Z</td>\n",
       "      <td>Richmond &amp; Hawkesbury</td>\n",
       "      <td>NaN</td>\n",
       "      <td>Retail &amp; Consumer Products</td>\n",
       "      <td>Retail Assistants</td>\n",
       "      <td>Our Casual Stock Replenishers pride themselves...</td>\n",
       "      <td>NaN</td>\n",
       "      <td>0</td>\n",
       "      <td>30</td>\n",
       "      <td>NaN</td>\n",
       "    </tr>\n",
       "    <tr>\n",
       "      <th>2</th>\n",
       "      <td>37404356</td>\n",
       "      <td>RETAIL SALES SUPERSTARS and STYLISTS Wanted - ...</td>\n",
       "      <td>LB Creative Pty Ltd</td>\n",
       "      <td>2018-10-07T00:00:00.000Z</td>\n",
       "      <td>Brisbane</td>\n",
       "      <td>CBD &amp; Inner Suburbs</td>\n",
       "      <td>Retail &amp; Consumer Products</td>\n",
       "      <td>Retail Assistants</td>\n",
       "      <td>BRAND NEW FLAGSHIP STORE OPENING - SUNSHINE PLAZA</td>\n",
       "      <td>NaN</td>\n",
       "      <td>0</td>\n",
       "      <td>30</td>\n",
       "      <td>NaN</td>\n",
       "    </tr>\n",
       "  </tbody>\n",
       "</table>\n",
       "</div>"
      ],
      "text/plain": [
       "         Id                                              Title  \\\n",
       "0  37404348                           Casual Stock Replenisher   \n",
       "1  37404337                           Casual Stock Replenisher   \n",
       "2  37404356  RETAIL SALES SUPERSTARS and STYLISTS Wanted - ...   \n",
       "\n",
       "               Company                      Date               Location  \\\n",
       "0          Aldi Stores  2018-10-07T00:00:00.000Z                 Sydney   \n",
       "1          Aldi Stores  2018-10-07T00:00:00.000Z  Richmond & Hawkesbury   \n",
       "2  LB Creative Pty Ltd  2018-10-07T00:00:00.000Z               Brisbane   \n",
       "\n",
       "                          Area              Classification  SubClassification  \\\n",
       "0  North West & Hills District  Retail & Consumer Products  Retail Assistants   \n",
       "1                          NaN  Retail & Consumer Products  Retail Assistants   \n",
       "2          CBD & Inner Suburbs  Retail & Consumer Products  Retail Assistants   \n",
       "\n",
       "                                         Requirement FullDescription  \\\n",
       "0  Our Casual Stock Replenishers pride themselves...             NaN   \n",
       "1  Our Casual Stock Replenishers pride themselves...             NaN   \n",
       "2  BRAND NEW FLAGSHIP STORE OPENING - SUNSHINE PLAZA             NaN   \n",
       "\n",
       "   LowestSalary  HighestSalary JobType  \n",
       "0             0             30     NaN  \n",
       "1             0             30     NaN  \n",
       "2             0             30     NaN  "
      ]
     },
     "execution_count": 51,
     "metadata": {},
     "output_type": "execute_result"
    }
   ],
   "source": [
    "# Import necessary modules\n",
    "import numpy as np\n",
    "import pandas as pd\n",
    "import re\n",
    "\n",
    "# read the csv file into Dataframe: df, and check data is read ok\n",
    "df = pd.read_csv('data_assignment.csv')\n",
    "print(\"The Dataset consists of: \", df.shape[0], \" rows and \", df.shape[1], \" columuns\")\n",
    "df.head(3)  \n"
   ]
  },
  {
   "cell_type": "code",
   "execution_count": 2,
   "metadata": {},
   "outputs": [
    {
     "name": "stdout",
     "output_type": "stream",
     "text": [
      "There are 4998 total jobs for Adelaide\n",
      "There are 46357 total jobs for Sydney\n",
      "Sydney has the most jobs compared to Adelaide\n",
      "\n",
      "Numbers by job types in Adelaide\n",
      "                   Id  Title  Company  Date  Location  Area  Classification  \\\n",
      "JobType                                                                       \n",
      "Casual/Vacation   619    619      578   619       619     0             619   \n",
      "Contract/Temp     822    822      809   822       822     0             822   \n",
      "Full Time        3066   3066     2882  3066      3066     0            3066   \n",
      "Part Time         393    393      376   393       393     0             393   \n",
      "\n",
      "                 SubClassification  Requirement  FullDescription  \\\n",
      "JobType                                                            \n",
      "Casual/Vacation                619          619              619   \n",
      "Contract/Temp                  822          822              822   \n",
      "Full Time                     3066         3066             3065   \n",
      "Part Time                      393          393              393   \n",
      "\n",
      "                 LowestSalary  HighestSalary  \n",
      "JobType                                       \n",
      "Casual/Vacation           619            619  \n",
      "Contract/Temp             822            822  \n",
      "Full Time                3066           3066  \n",
      "Part Time                 393            393  \n",
      "\n",
      "Numbers by job type in Sydney\n",
      "                    Id  Title  Company   Date  Location   Area  \\\n",
      "JobType                                                          \n",
      "Casual/Vacation   2542   2542     2402   2542      2542   2405   \n",
      "Contract/Temp     8420   8420     8301   8420      8420   7381   \n",
      "Full Time        32267  32267    31156  32267     32267  28435   \n",
      "Part Time         2277   2277     2179   2277      2277   2123   \n",
      "\n",
      "                 Classification  SubClassification  Requirement  \\\n",
      "JobType                                                           \n",
      "Casual/Vacation            2542               2542         2542   \n",
      "Contract/Temp              8420               8420         8420   \n",
      "Full Time                 32267              32267        32267   \n",
      "Part Time                  2277               2277         2277   \n",
      "\n",
      "                 FullDescription  LowestSalary  HighestSalary  \n",
      "JobType                                                        \n",
      "Casual/Vacation             2541          2542           2542  \n",
      "Contract/Temp               8420          8420           8420  \n",
      "Full Time                  32257         32267          32267  \n",
      "Part Time                   2277          2277           2277  \n"
     ]
    }
   ],
   "source": [
    "# A3: PART 2 OF GROUP ASSESSMENT - Susana's contribution\n",
    "#=======================================================\n",
    "# Section 1. Analyse by comparison: 7 points\n",
    "# Choose 2 locations: Adelaide & Sydney\n",
    "# 1.1 which city has the most jobs? How many jobs for each job type in each city?\n",
    "import numpy as np\n",
    "import pandas as pd\n",
    "import seaborn as sns\n",
    "import matplotlib.pyplot as plt\n",
    "%matplotlib inline\n",
    "import re\n",
    "\n",
    "# read and preprocess data set\n",
    "df = pd.read_csv('data_assignment.csv')\n",
    "\n",
    "# create new datasets for Adelaide and Sydney\n",
    "City1 = df[df['Location'] == \"Adelaide\" ] \n",
    "City2 = df[df['Location'] == \"Sydney\" ] \n",
    "\n",
    "# total jobs for each city\n",
    "City1['JobType'].value_counts()\n",
    "City2['JobType'].value_counts()\n",
    "print('There are',len(City1), 'total jobs for Adelaide')\n",
    "print('There are',len(City2), 'total jobs for Sydney')\n",
    "\n",
    "x = len(City1) #Adelaide\n",
    "y = len(City2) #Sydney\n",
    "\n",
    "#calculate which city out of the 2 has most jobs advertised\n",
    "if x > y:\n",
    "    print('Adelaide has the most jobs compared to Sydney')\n",
    "else:\n",
    "    print('Sydney has the most jobs compared to Adelaide')\n",
    "\n",
    "# Group and aggregate by job type\n",
    "City1 = City1.groupby('JobType').count()\n",
    "print('\\nNumbers by job types in Adelaide')\n",
    "print(City1)\n",
    "\n",
    "City2 = City2.groupby('JobType').count()\n",
    "print('\\nNumbers by job type in Sydney')\n",
    "print(City2)\n"
   ]
  },
  {
   "cell_type": "code",
   "execution_count": 3,
   "metadata": {},
   "outputs": [
    {
     "name": "stdout",
     "output_type": "stream",
     "text": [
      "Top 5 sectors in Adelaide with total jobs:\n",
      "Trades & Services                         621\n",
      "Healthcare & Medical                      554\n",
      "Manufacturing, Transport & Logistics      420\n",
      "Hospitality & Tourism                     385\n",
      "Information & Communication Technology    378\n",
      "Name: Classification, dtype: int64\n",
      "\n",
      "Top 5 sectors in Sydney with total jobs:\n",
      "Information & Communication Technology    6999\n",
      "Trades & Services                         3181\n",
      "Accounting                                3105\n",
      "Hospitality & Tourism                     3081\n",
      "Manufacturing, Transport & Logistics      2536\n",
      "Name: Classification, dtype: int64\n"
     ]
    }
   ],
   "source": [
    "# 1.2 In each city, which are top 5 job sectors? How many jobs are in each sector? \n",
    "#creating new data frame for each city\n",
    "df_City1 = df[df['Location'] == \"Adelaide\" ]['Classification'].value_counts()\n",
    "df_City2 = df[df['Location'] == \"Sydney\" ]['Classification'].value_counts()\n",
    "\n",
    "print('Top 5 sectors in Adelaide with total jobs:')\n",
    "print(df_City1[0:5])\n",
    "print('\\nTop 5 sectors in Sydney with total jobs:')\n",
    "print(df_City2[0:5])"
   ]
  },
  {
   "cell_type": "code",
   "execution_count": 4,
   "metadata": {},
   "outputs": [
    {
     "name": "stderr",
     "output_type": "stream",
     "text": [
      "/Users/misszani/opt/anaconda3/lib/python3.7/site-packages/ipykernel_launcher.py:26: UserWarning: You have mixed positional and keyword arguments, some input may be discarded.\n"
     ]
    },
    {
     "data": {
      "image/png": "[encoded data removed]",
      "text/plain": [
       "<Figure size 432x288 with 1 Axes>"
      ]
     },
     "metadata": {},
     "output_type": "display_data"
    },
    {
     "name": "stderr",
     "output_type": "stream",
     "text": [
      "/Users/misszani/opt/anaconda3/lib/python3.7/site-packages/ipykernel_launcher.py:40: UserWarning: You have mixed positional and keyword arguments, some input may be discarded.\n"
     ]
    },
    {
     "data": {
      "image/png": "[encoded data removed]",
      "text/plain": [
       "<Figure size 432x288 with 1 Axes>"
      ]
     },
     "metadata": {},
     "output_type": "display_data"
    }
   ],
   "source": [
    "# 1.3 Visualise the top 5 job sectors in pie chart for each city.* (1.5 point)\n",
    "# !! Still need to set sector labels correctly on pies\n",
    "import numpy as np\n",
    "import pandas as pd\n",
    "import seaborn as sns\n",
    "import matplotlib.pyplot as plt\n",
    "%matplotlib inline\n",
    "import re\n",
    "\n",
    "top5_City1 = df_City1[0:5]\n",
    "top5_City2 = df_City2[0:5]\n",
    "\n",
    "City1_labels = top5_City1 #['Classification']\n",
    "City2_labels = top5_City2 #['Classification']\n",
    "\n",
    "#Set title, legend and plot pie chart for City1\n",
    "plt.title=('Top 5 Job Sectors for Adelaide')\n",
    "\n",
    "# Pie chart for City1\n",
    "City1_sizes = top5_City1[0:5]\n",
    " \n",
    "#Setting Figure 1 for City1    \n",
    "fig1, ax1 = plt.subplots()\n",
    "patches, texts = ax1.pie(City1_sizes, labels=City1_labels, startangle=90)\n",
    "# Set legend\n",
    "plt.legend(patches, labels=City1_labels, title='Adelaide Job Sectors', loc= 'best')\n",
    "\n",
    "# Equal aspect ratio ensures that pie is drawn as a circle\n",
    "ax1.axis('equal')  \n",
    "plt.tight_layout()\n",
    "plt.show()\n",
    "\n",
    "# Pie chart for City2\n",
    "City2_sizes = top5_City2[0:5]\n",
    " \n",
    "#Setting Figure 1 for City1    \n",
    "fig1, ax1 = plt.subplots()\n",
    "patches, texts = ax1.pie(City2_sizes, labels=City2_labels, startangle=90)\n",
    "# Set legend\n",
    "plt.legend(patches, labels=City2_labels, title='Sydney Job Sectors', loc= 'best')\n",
    "\n",
    "# Equal aspect ratio ensures that pie is drawn as a circle\n",
    "#plt.title('Top 5 Sectors for Sydney')#,size=16,loc='center')\n",
    "ax1.axis('equal')  \n",
    "plt.tight_layout()\n",
    "plt.show()"
   ]
  },
  {
   "cell_type": "code",
   "execution_count": 8,
   "metadata": {},
   "outputs": [
    {
     "name": "stderr",
     "output_type": "stream",
     "text": [
      "/Users/misszani/opt/anaconda3/lib/python3.7/site-packages/ipykernel_launcher.py:7: SettingWithCopyWarning: \n",
      "A value is trying to be set on a copy of a slice from a DataFrame.\n",
      "Try using .loc[row_indexer,col_indexer] = value instead\n",
      "\n",
      "See the caveats in the documentation: https://pandas.pydata.org/pandas-docs/stable/user_guide/indexing.html#returning-a-view-versus-a-copy\n",
      "  import sys\n",
      "/Users/misszani/opt/anaconda3/lib/python3.7/site-packages/ipykernel_launcher.py:10: SettingWithCopyWarning: \n",
      "A value is trying to be set on a copy of a slice from a DataFrame.\n",
      "Try using .loc[row_indexer,col_indexer] = value instead\n",
      "\n",
      "See the caveats in the documentation: https://pandas.pydata.org/pandas-docs/stable/user_guide/indexing.html#returning-a-view-versus-a-copy\n",
      "  # Remove the CWD from sys.path while we load stuff.\n"
     ]
    },
    {
     "data": {
      "text/plain": [
       "$0 - $30       8427\n",
       "$150 - $200    4718\n",
       "$40 - $50      4406\n",
       "$100 - $120    4330\n",
       "$120 - $150    4228\n",
       "$60 - $70      4152\n",
       "$70 - $80      3850\n",
       "$50 - $60      3751\n",
       "$80 - $100     3702\n",
       "$30 - $40      3035\n",
       "$200 - $250    1758\n",
       "Name: SalaryRange, dtype: int64"
      ]
     },
     "execution_count": 8,
     "metadata": {},
     "output_type": "execute_result"
    }
   ],
   "source": [
    "# 1.4 List the job salary range with the total job numbers for each city. Which city has the most\n",
    "# highest paying jobs?\n",
    "\n",
    "# read and set salary ranges from numbers to strings\n",
    "df_City1 = df[df['Location'] == \"Adelaide\" ]\n",
    "df_City2 = df[df['Location'] == \"Sydney\" ]\n",
    "\n",
    "df_City1['SalaryRange'] = '$'+ df_City1['LowestSalary'].astype(str) + ' - $' + df_City1['HighestSalary'].astype(str)\n",
    "df_City1.SalaryRange.value_counts()\n",
    "\n",
    "df_City2['SalaryRange'] = '$'+ df_City2['LowestSalary'].astype(str) + ' - $' + df_City2['HighestSalary'].astype(str)\n",
    "df_City2.SalaryRange.value_counts()\n"
   ]
  },
  {
   "cell_type": "code",
   "execution_count": 16,
   "metadata": {},
   "outputs": [
    {
     "name": "stdout",
     "output_type": "stream",
     "text": [
      "Top 5 Companies in Adelaide: \n",
      "Jora Local               109\n",
      "S.A. Health              106\n",
      "Hays Talent Solutions     46\n",
      "Excel Recruitment         41\n",
      "Randstad - Industrial     36\n",
      "Name: Company, dtype: int64\n",
      "\n",
      "Top 5 Companies in Sydney:\n",
      "Jora Local                       1426\n",
      "Robert Walters                    448\n",
      "Design & Build                    407\n",
      "Bluefin Resources Pty Limited     254\n",
      "Paxus                             251\n",
      "Name: Company, dtype: int64\n"
     ]
    }
   ],
   "source": [
    "# 1.5 List top 5 companies in each city? ** Which sectors do they belong to?\n",
    "df_City1 = df[df['Location'] == \"Adelaide\" ]['Company'].value_counts()\n",
    "df_City2 = df[df['Location'] == \"Sydney\" ]['Company'].value_counts()\n",
    "\n",
    "print('Top 5 Companies in Adelaide: ')\n",
    "print(df_City1[0:5])\n",
    "print('\\nTop 5 Companies in Sydney:')\n",
    "print(df_City2[0:5])\n"
   ]
  },
  {
   "cell_type": "code",
   "execution_count": null,
   "metadata": {},
   "outputs": [],
   "source": [
    "# 1.6 Between 2 cities, which do you think it is better for employees. Explain your choice.\n",
    "# =========================================================================================\n",
    "# Looking at the comparison between the 2 cities of Adelaide and Sydney, Sydney would be better for employees as\n",
    "# there are salaries are higher and there are more job opportunities and postings available.\n"
   ]
  },
  {
   "cell_type": "code",
   "execution_count": 57,
   "metadata": {},
   "outputs": [
    {
     "data": {
      "image/png": "[encoded data removed]",
      "text/plain": [
       "<Figure size 864x504 with 1 Axes>"
      ]
     },
     "metadata": {},
     "output_type": "display_data"
    }
   ],
   "source": [
    "# Analyse by time. (7 points)\n",
    "# In this part, we will analyse the jobs based on the posting date.\n",
    "# 2.1 Visualise the number of job posts by month. (1 point)\n",
    "%matplotlib inline\n",
    "import numpy as np\n",
    "import pandas as pd\n",
    "import matplotlib.pyplot as plt\n",
    "import seaborn as sns\n",
    "\n",
    "# read and preprocess data set\n",
    "df = pd.read_csv('data_assignment.csv')\n",
    "\n",
    "#cleaning date data to just dates\n",
    "df[\"Date\"] = df[\"Date\"].replace(to_replace=r'T.*', value='', regex=True)\n",
    "df[\"Date\"] = pd.to_datetime(df[\"Date\"])\n",
    "\n",
    "# count totals for each month - **NEED TO FIX, my graph is not totalling by month\n",
    "df_monthly_counts = df[df[\"Date\"].isna()==False]\n",
    "df_monthly_counts[\"Month\"] =[x.strftime(\"%d %b\") for x in df_monthly_counts[\"Date\"]]\n",
    "\n",
    "df_monthly_counts = df_monthly_counts.groupby('Month').count()\n",
    "df_monthly_counts['Months'] = df_monthly_counts.index\n",
    "df_monthly_counts['Count'] = df_monthly_counts[\"Id\"]\n",
    "\n",
    "# Set figure\n",
    "sns.set()\n",
    "plt.figure(figsize=(12,7))\n",
    "barChart = sns.barplot(x='Months', y='Count', data=df_monthly_counts, dodge=False)\n",
    "barChart.set_xticklabels(\n",
    "    barChart.get_xticklabels(), \n",
    "    rotation=45, \n",
    "    horizontalalignment='right',\n",
    "    fontweight='light',\n",
    "    fontsize='small'\n",
    ")\n",
    "\n",
    "#plt.title('Number of Jobs Posts by Month', size=20)  !! can't get my title to work????\n",
    "plt.ylabel('Total Number of Job Posts', size=12)\n",
    "plt.xlabel('Months', size=12)\n",
    "plt.show()\n"
   ]
  },
  {
   "cell_type": "code",
   "execution_count": 65,
   "metadata": {},
   "outputs": [
    {
     "ename": "AttributeError",
     "evalue": "'Series' object has no attribute 'split'",
     "output_type": "error",
     "traceback": [
      "\u001b[0;31m---------------------------------------------------------------------------\u001b[0m",
      "\u001b[0;31mAttributeError\u001b[0m                            Traceback (most recent call last)",
      "\u001b[0;32m<ipython-input-65-36d74aeaf1b2>\u001b[0m in \u001b[0;36m<module>\u001b[0;34m\u001b[0m\n\u001b[1;32m     13\u001b[0m     \u001b[0;32mreturn\u001b[0m \u001b[0mjob_post_date\u001b[0m\u001b[0;34m.\u001b[0m\u001b[0mstrftime\u001b[0m\u001b[0;34m(\u001b[0m\u001b[0;34m\"%A\"\u001b[0m\u001b[0;34m)\u001b[0m\u001b[0;34m\u001b[0m\u001b[0;34m\u001b[0m\u001b[0m\n\u001b[1;32m     14\u001b[0m \u001b[0;34m\u001b[0m\u001b[0m\n\u001b[0;32m---> 15\u001b[0;31m \u001b[0mprint\u001b[0m\u001b[0;34m(\u001b[0m\u001b[0mfindDay\u001b[0m\u001b[0;34m(\u001b[0m\u001b[0mdate\u001b[0m\u001b[0;34m)\u001b[0m\u001b[0;34m)\u001b[0m\u001b[0;34m\u001b[0m\u001b[0;34m\u001b[0m\u001b[0m\n\u001b[0m",
      "\u001b[0;32m<ipython-input-65-36d74aeaf1b2>\u001b[0m in \u001b[0;36mfindDay\u001b[0;34m(date)\u001b[0m\n\u001b[1;32m      9\u001b[0m \u001b[0;34m\u001b[0m\u001b[0m\n\u001b[1;32m     10\u001b[0m \u001b[0;32mdef\u001b[0m \u001b[0mfindDay\u001b[0m\u001b[0;34m(\u001b[0m\u001b[0mdate\u001b[0m\u001b[0;34m)\u001b[0m\u001b[0;34m:\u001b[0m\u001b[0;34m\u001b[0m\u001b[0;34m\u001b[0m\u001b[0m\n\u001b[0;32m---> 11\u001b[0;31m     \u001b[0myear\u001b[0m\u001b[0;34m,\u001b[0m \u001b[0mmonth\u001b[0m\u001b[0;34m,\u001b[0m \u001b[0mday\u001b[0m \u001b[0;34m=\u001b[0m \u001b[0;34m(\u001b[0m\u001b[0mint\u001b[0m\u001b[0;34m(\u001b[0m\u001b[0mi\u001b[0m\u001b[0;34m)\u001b[0m \u001b[0;32mfor\u001b[0m \u001b[0mi\u001b[0m \u001b[0;32min\u001b[0m \u001b[0mdate\u001b[0m\u001b[0;34m.\u001b[0m\u001b[0msplit\u001b[0m\u001b[0;34m(\u001b[0m\u001b[0;34m' '\u001b[0m\u001b[0;34m)\u001b[0m\u001b[0;34m)\u001b[0m\u001b[0;34m\u001b[0m\u001b[0;34m\u001b[0m\u001b[0m\n\u001b[0m\u001b[1;32m     12\u001b[0m     \u001b[0mjob_post_date\u001b[0m \u001b[0;34m=\u001b[0m \u001b[0mdatetime\u001b[0m\u001b[0;34m.\u001b[0m\u001b[0mdate\u001b[0m\u001b[0;34m(\u001b[0m\u001b[0myear\u001b[0m\u001b[0;34m,\u001b[0m \u001b[0mmonth\u001b[0m\u001b[0;34m,\u001b[0m \u001b[0mday\u001b[0m\u001b[0;34m)\u001b[0m\u001b[0;34m\u001b[0m\u001b[0;34m\u001b[0m\u001b[0m\n\u001b[1;32m     13\u001b[0m     \u001b[0;32mreturn\u001b[0m \u001b[0mjob_post_date\u001b[0m\u001b[0;34m.\u001b[0m\u001b[0mstrftime\u001b[0m\u001b[0;34m(\u001b[0m\u001b[0;34m\"%A\"\u001b[0m\u001b[0;34m)\u001b[0m\u001b[0;34m\u001b[0m\u001b[0;34m\u001b[0m\u001b[0m\n",
      "\u001b[0;32m~/opt/anaconda3/lib/python3.7/site-packages/pandas/core/generic.py\u001b[0m in \u001b[0;36m__getattr__\u001b[0;34m(self, name)\u001b[0m\n\u001b[1;32m   5272\u001b[0m             \u001b[0;32mif\u001b[0m \u001b[0mself\u001b[0m\u001b[0;34m.\u001b[0m\u001b[0m_info_axis\u001b[0m\u001b[0;34m.\u001b[0m\u001b[0m_can_hold_identifiers_and_holds_name\u001b[0m\u001b[0;34m(\u001b[0m\u001b[0mname\u001b[0m\u001b[0;34m)\u001b[0m\u001b[0;34m:\u001b[0m\u001b[0;34m\u001b[0m\u001b[0;34m\u001b[0m\u001b[0m\n\u001b[1;32m   5273\u001b[0m                 \u001b[0;32mreturn\u001b[0m \u001b[0mself\u001b[0m\u001b[0;34m[\u001b[0m\u001b[0mname\u001b[0m\u001b[0;34m]\u001b[0m\u001b[0;34m\u001b[0m\u001b[0;34m\u001b[0m\u001b[0m\n\u001b[0;32m-> 5274\u001b[0;31m             \u001b[0;32mreturn\u001b[0m \u001b[0mobject\u001b[0m\u001b[0;34m.\u001b[0m\u001b[0m__getattribute__\u001b[0m\u001b[0;34m(\u001b[0m\u001b[0mself\u001b[0m\u001b[0;34m,\u001b[0m \u001b[0mname\u001b[0m\u001b[0;34m)\u001b[0m\u001b[0;34m\u001b[0m\u001b[0;34m\u001b[0m\u001b[0m\n\u001b[0m\u001b[1;32m   5275\u001b[0m \u001b[0;34m\u001b[0m\u001b[0m\n\u001b[1;32m   5276\u001b[0m     \u001b[0;32mdef\u001b[0m \u001b[0m__setattr__\u001b[0m\u001b[0;34m(\u001b[0m\u001b[0mself\u001b[0m\u001b[0;34m,\u001b[0m \u001b[0mname\u001b[0m\u001b[0;34m:\u001b[0m \u001b[0mstr\u001b[0m\u001b[0;34m,\u001b[0m \u001b[0mvalue\u001b[0m\u001b[0;34m)\u001b[0m \u001b[0;34m->\u001b[0m \u001b[0;32mNone\u001b[0m\u001b[0;34m:\u001b[0m\u001b[0;34m\u001b[0m\u001b[0;34m\u001b[0m\u001b[0m\n",
      "\u001b[0;31mAttributeError\u001b[0m: 'Series' object has no attribute 'split'"
     ]
    }
   ],
   "source": [
    "# 2.2 Visualise the number of job posts by day of week. (1 point)\n",
    "\n",
    "# Find day of the week for a given date \n",
    "import datetime  \n",
    "from datetime import date \n",
    "import calendar \n",
    "\n",
    "date = df[\"Date\"]\n",
    "\n",
    "def findDay(date): \n",
    "    year, month, day = (int(i) for i in date.split(' '))     \n",
    "    job_post_date = datetime.date(year, month, day) \n",
    "    return job_post_date.strftime(\"%A\") \n",
    "  \n",
    "print(findDay(date)) "
   ]
  },
  {
   "cell_type": "code",
   "execution_count": null,
   "metadata": {},
   "outputs": [],
   "source": [
    "# 2.3 Visualise the number of job posts by day of the month. (1 point)\n"
   ]
  }
 ],
 "metadata": {
  "kernelspec": {
   "display_name": "Python 3",
   "language": "python",
   "name": "python3"
  },
  "language_info": {
   "codemirror_mode": {
    "name": "ipython",
    "version": 3
   },
   "file_extension": ".py",
   "mimetype": "text/x-python",
   "name": "python",
   "nbconvert_exporter": "python",
   "pygments_lexer": "ipython3",
   "version": "3.7.6"
  }
 },
 "nbformat": 4,
 "nbformat_minor": 4
}
