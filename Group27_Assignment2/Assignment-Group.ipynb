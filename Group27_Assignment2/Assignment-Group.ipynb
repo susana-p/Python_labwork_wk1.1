{
 "cells": [
  {
   "cell_type": "code",
   "execution_count": 1,
   "metadata": {},
   "outputs": [],
   "source": [
    "import numpy as np\n",
    "import pandas as pd\n",
    "import matplotlib.pyplot as plt\n",
    "import seaborn\n",
    "import re"
   ]
  },
  {
   "cell_type": "code",
   "execution_count": null,
   "metadata": {},
   "outputs": [],
   "source": [
    "df = pd.read_csv('data_assignment.csv')\n",
    "df.head()"
   ]
  },
  {
   "cell_type": "code",
   "execution_count": null,
   "metadata": {},
   "outputs": [],
   "source": []
  },
  {
   "cell_type": "code",
   "execution_count": null,
   "metadata": {},
   "outputs": [],
   "source": [
    "# CEAIRA'S CONTRIBUTION PART 1: Q1 to Q5\n",
    "# ======================================="
   ]
  },
  {
   "cell_type": "code",
   "execution_count": null,
   "metadata": {},
   "outputs": [],
   "source": [
    "#Describe datset\n",
    "\n",
    "df.nunique()"
   ]
  },
  {
   "cell_type": "code",
   "execution_count": null,
   "metadata": {},
   "outputs": [],
   "source": [
    "#How many records are there in the dataset\n",
    "\n",
    "df.shape"
   ]
  },
  {
   "cell_type": "code",
   "execution_count": null,
   "metadata": {},
   "outputs": [],
   "source": [
    "#Describe datset\n",
    "\n",
    "df.columns"
   ]
  },
  {
   "cell_type": "code",
   "execution_count": null,
   "metadata": {},
   "outputs": [],
   "source": [
    "#Describe datset\n",
    "\n",
    "df.dtypes"
   ]
  },
  {
   "cell_type": "code",
   "execution_count": null,
   "metadata": {},
   "outputs": [],
   "source": [
    "#Correct date format\n",
    "\n",
    "df[\"Date\"] = df[\"Date\"].replace(to_replace=r'T.*', value='', regex = True)\n",
    "df[\"Date\"] = pd.to_datetime (df[\"Date\"])"
   ]
  },
  {
   "cell_type": "code",
   "execution_count": null,
   "metadata": {},
   "outputs": [],
   "source": [
    "#Describe datset with correct date format\n",
    "\n",
    "df.dtypes"
   ]
  },
  {
   "cell_type": "code",
   "execution_count": null,
   "metadata": {},
   "outputs": [],
   "source": [
    "df.sort_values(by='Date')"
   ]
  },
  {
   "cell_type": "code",
   "execution_count": null,
   "metadata": {},
   "outputs": [],
   "source": [
    "#Which period does it cover? How many different dates have job postings?\n",
    "\n",
    "df.sort_values(by='Date')\n",
    "df[\"Date\"].value_counts()"
   ]
  },
  {
   "cell_type": "code",
   "execution_count": null,
   "metadata": {},
   "outputs": [],
   "source": [
    "#How many job sectors (job classifications) are there in the dataset? List the name of each sector and its' total of job postings\n",
    "\n",
    "df[\"Classification\"].value_counts()"
   ]
  },
  {
   "cell_type": "code",
   "execution_count": null,
   "metadata": {},
   "outputs": [],
   "source": [
    "# SUSANA'S CONTRIBUTION PART 1: Q6 to Q10\n",
    "# =======================================\n",
    "print(\"The Dataset consists of: \", df.shape[0], \" rows and \", df.shape[1], \" columuns\")\n",
    "df.head(3)  \n"
   ]
  },
  {
   "cell_type": "code",
   "execution_count": null,
   "metadata": {},
   "outputs": [],
   "source": [
    "# Choose job sector, how many sub-sectors are there in that sector? \n",
    "# I tried using Unique function, but couldn't make it work:  np.unique(sector, trim='fb')[source]\n",
    "\n",
    "# Chose the Accounting Sector, create new dataset\n",
    "sub_classification = df[df['Classification'] == \"Accounting\" ].groupby(['Classification','SubClassification'])\n",
    "sub_classification['Classification'].value_counts()\n",
    "print('There are',len(sub_classification), 'sub sectors within Accounting')"
   ]
  },
  {
   "cell_type": "code",
   "execution_count": null,
   "metadata": {},
   "outputs": [],
   "source": [
    "# List the names of each sub-sector and it's job posting total\n",
    "print('Sub Sectors and total job posting numbers:')\n",
    "df[df['Classification'] == \"Accounting\" ]['SubClassification'].value_counts()"
   ]
  },
  {
   "cell_type": "code",
   "execution_count": null,
   "metadata": {},
   "outputs": [],
   "source": [
    "#List the salary ranges and their total of job postings\n",
    "#grouping the salary ranges then calculating their totals   *****????? still need to fix this\n",
    "salary_range = df[\"LowestSalary\"] + df[\"HighestSalary\"]\n",
    "salary_range\n",
    "#group = df.groupby('LowestSalary')\n",
    "#group.count()"
   ]
  },
  {
   "cell_type": "code",
   "execution_count": null,
   "metadata": {},
   "outputs": [],
   "source": [
    "#Q1.8 List the job types, what are the lowest and highest salary?  ***???? lowest and highest\n",
    "#job_type = df['JobType'].df.sort_values()\n",
    "job_type = df['JobType'].value_counts()\n",
    "job_type"
   ]
  },
  {
   "cell_type": "code",
   "execution_count": null,
   "metadata": {},
   "outputs": [],
   "source": [
    "# Q2.1 The salaries are set as HighestSalary and LowestSalary, calc AverageSalary for each job. ****????\n",
    "\n",
    "from math import *\n",
    "#df = df.assign(AverageSalary= df[\"LowestSalary\"] + df[\"HighestSalary\"]/2)\n",
    "df_low = df['LowestSalary'].mean()\n",
    "df_high = df['HighestSalary'].mean()\n",
    "df_low, df_high"
   ]
  },
  {
   "cell_type": "code",
   "execution_count": null,
   "metadata": {},
   "outputs": [],
   "source": [
    "# HANH'S CONTRIBUTION PART 1: Q11 to Q14\n",
    "# ======================================="
   ]
  },
  {
   "cell_type": "code",
   "execution_count": null,
   "metadata": {},
   "outputs": [],
   "source": [
    "#The raw dataset values of the \"Id\" column had inconsistencies in their representation. The Id values should have 8 number long integers only. Write code to remove unnecessary characters.\n",
    "df['IdLen'] = df['Id'].astype(str).map(len)\n",
    "df[df['IdLen'] != 8].shape[0]\n",
    "print(\"All the Id length are 8\")"
   ]
  },
  {
   "cell_type": "code",
   "execution_count": null,
   "metadata": {},
   "outputs": [],
   "source": [
    "# The \"Date\" column is represented in a format that contained both date and time information. However, the time is not correct and should be removed. (1 point)\n",
    "df['Date'] = df[\"Date\"].replace(to_replace=r'T.*',value='',regex=True)"
   ]
  },
  {
   "cell_type": "code",
   "execution_count": null,
   "metadata": {},
   "outputs": [],
   "source": [
    "df.dtypes"
   ]
  },
  {
   "cell_type": "code",
   "execution_count": null,
   "metadata": {},
   "outputs": [],
   "source": [
    "# Change type of “Id” column to numeric and change type of “Date” column to DateTime. (1 point)\n",
    "df['Date'] = pd.to_datetime(df['Date'])\n",
    "df['Id'] =  pd.to_numeric(df['Id'])"
   ]
  },
  {
   "cell_type": "code",
   "execution_count": null,
   "metadata": {},
   "outputs": [],
   "source": [
    "df.dtypes"
   ]
  },
  {
   "cell_type": "code",
   "execution_count": null,
   "metadata": {},
   "outputs": [],
   "source": [
    "# Are there any duplicate data in the dataset? Provide the way you find them and your solution to fix it.\n",
    "df[df.duplicated()].shape[0]\n",
    "\n",
    "# There is no duplicate in the dataset\n",
    "# Solution to fix duplication \n",
    "df.drop_duplicates(inplace=True)"
   ]
  },
  {
   "cell_type": "code",
   "execution_count": null,
   "metadata": {},
   "outputs": [],
   "source": [
    "# Check missing data and visualize them in a corresponding chart.** (1.5 point)\n",
    "\n",
    "# Check missing data\n",
    "df.isnull().sum(axis = 0)\n",
    "\n"
   ]
  },
  {
   "cell_type": "code",
   "execution_count": null,
   "metadata": {},
   "outputs": [],
   "source": [
    "# Visualise missing data using Plot\n",
    "\n",
    "colors1 = [\"#F5F5DC\"]\n",
    "fig, ax = plt.subplots(figsize=(10,7))  \n",
    "ax.set_title(\"Missing data in dataset\");\n",
    "ax.set_xlabel(\"Missing data vs. existing\")\n",
    "\n",
    "# Plot 1 Existing data \n",
    "df_2 = df.notnull().count(axis = 0)\n",
    "df_2 = df_2.reset_index()\n",
    "df_2.columns=['Attribute1', 'Existing data']\n",
    "df_2.plot.barh(x='Attribute1',y='Existing data', ax=ax, stacked=True, color=colors1)\n",
    "\n",
    "# Plot 2 Missing data \n",
    "colors2 = [\"#FADA5E\", \"#FFD300\",\"#F9A602\"]\n",
    "df_1 = df.isnull().sum(axis = 0)\n",
    "df_1 = df_1.reset_index()\n",
    "df_1.columns=['Attribute', 'Missing data']\n",
    "df_1.plot.barh(x='Attribute',y='Missing data', ax=ax, stacked=True, color=colors2)\n"
   ]
  }
 ],
 "metadata": {
  "kernelspec": {
   "display_name": "Python 3",
   "language": "python",
   "name": "python3"
  },
  "language_info": {
   "codemirror_mode": {
    "name": "ipython",
    "version": 3
   },
   "file_extension": ".py",
   "mimetype": "text/x-python",
   "name": "python",
   "nbconvert_exporter": "python",
   "pygments_lexer": "ipython3",
   "version": "3.7.6"
  }
 },
 "nbformat": 4,
 "nbformat_minor": 4
}
